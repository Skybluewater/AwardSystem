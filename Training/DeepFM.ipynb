{
 "cells": [
  {
   "cell_type": "code",
   "execution_count": 2,
   "metadata": {},
   "outputs": [],
   "source": [
    "import pandas as pd\n",
    "from sklearn.metrics import log_loss, roc_auc_score\n",
    "from sklearn.model_selection import train_test_split\n",
    "from sklearn.preprocessing import LabelEncoder, MinMaxScaler\n",
    "\n",
    "from deepctr.models import DeepFM\n",
    "from deepctr.feature_column import SparseFeat, DenseFeat, get_feature_names"
   ]
  },
  {
   "cell_type": "code",
   "execution_count": 3,
   "metadata": {},
   "outputs": [],
   "source": [
    "import tensorflow as tf"
   ]
  },
  {
   "cell_type": "code",
   "execution_count": 56,
   "metadata": {},
   "outputs": [],
   "source": [
    "df = pd.read_csv(\"features_63_label_2.csv\").drop([\"Unnamed: 0\"], axis=1)"
   ]
  },
  {
   "cell_type": "code",
   "execution_count": 59,
   "metadata": {},
   "outputs": [],
   "source": [
    "df_user_id = df[\"user_id\"]\n",
    "df_label = df[\"award_id\"].factorize()[0]\n",
    "df.drop([\"user_id\", \"award_id\"], axis=1, inplace=True)"
   ]
  },
  {
   "cell_type": "code",
   "execution_count": 37,
   "metadata": {},
   "outputs": [],
   "source": [
    "dense_mapping = {\n",
    "    \"专业选修课成绩\": \"po_grade\",\n",
    "    \"专业选修课学分\": \"po_credit\",\n",
    "    \"专业必修课成绩\": \"pm_grade\",\n",
    "    \"专业必修课学分\": \"pm_credit\",\n",
    "    \"选修课成绩\": \"op_grade\",\n",
    "    \"选修课学分\": \"op_credit\",\n",
    "    \"公共必修课成绩\": \"cm_grade\",\n",
    "    \"公共必修课学分\": \"cm_credit\",\n",
    "    \"未分类课成绩\": \"uc_grade\",\n",
    "    \"未分类课学分\": \"uc_credit\",\n",
    "    \"总成绩\": \"tl_grade\", \n",
    "    \"总学分\": \"tl_credit\",\n",
    "}"
   ]
  },
  {
   "cell_type": "code",
   "execution_count": 38,
   "metadata": {},
   "outputs": [],
   "source": [
    "df.rename(columns=dense_mapping, inplace=True)"
   ]
  },
  {
   "cell_type": "code",
   "execution_count": 39,
   "metadata": {},
   "outputs": [
    {
     "data": {
      "text/plain": [
       "Index(['paper_count', 'paper_authOrder_0', 'paper_conferenceChoice_0',\n",
       "       'paper_paperState_0', 'paper_labels_0', 'paper_authOrder_1',\n",
       "       'paper_conferenceChoice_1', 'paper_paperState_1', 'paper_labels_1',\n",
       "       'paper_authOrder_2', 'paper_conferenceChoice_2', 'paper_paperState_2',\n",
       "       'paper_labels_2', 'patent_record_count', 'patent_record_classify_0',\n",
       "       'patent_record_classify_1', 'patent_record_classify_2',\n",
       "       'research_award_count', 'research_award_competeRange_0',\n",
       "       'research_award_awardLevel_0', 'research_award_labels_0',\n",
       "       'research_award_competeRange_1', 'research_award_awardLevel_1',\n",
       "       'research_award_labels_1', 'research_award_competeRange_2',\n",
       "       'research_award_awardLevel_2', 'research_award_labels_2',\n",
       "       'research_project_count', 'research_project_projectType_0',\n",
       "       'research_project_projectType_1', 'research_project_projectType_2',\n",
       "       'competition_award_count', 'competition_award_competeRange_0',\n",
       "       'competition_award_awardLevel_0', 'competition_award_labels_0',\n",
       "       'competition_award_competeRange_1', 'competition_award_awardLevel_1',\n",
       "       'competition_award_labels_1', 'competition_award_competeRange_2',\n",
       "       'competition_award_awardLevel_2', 'competition_award_labels_2',\n",
       "       'honor_title_count', 'honor_title_honorRank_0',\n",
       "       'honor_title_honorRank_1', 'honor_title_honorRank_2',\n",
       "       'other_achievements_count', 'other_achievements_honorRank_0',\n",
       "       'other_achievements_honorRank_1', 'other_achievements_honorRank_2',\n",
       "       'po_grade', 'po_credit', 'pm_grade', 'pm_credit', 'op_grade',\n",
       "       'op_credit', 'cm_grade', 'cm_credit', 'uc_grade', 'uc_credit',\n",
       "       'tl_grade', 'tl_credit'],\n",
       "      dtype='object')"
      ]
     },
     "execution_count": 39,
     "metadata": {},
     "output_type": "execute_result"
    }
   ],
   "source": [
    "df.columns"
   ]
  },
  {
   "cell_type": "code",
   "execution_count": 40,
   "metadata": {},
   "outputs": [],
   "source": [
    "col = list(df.columns)"
   ]
  },
  {
   "cell_type": "code",
   "execution_count": 41,
   "metadata": {},
   "outputs": [],
   "source": [
    "sparse_features = col[: -12]"
   ]
  },
  {
   "cell_type": "code",
   "execution_count": 42,
   "metadata": {},
   "outputs": [
    {
     "data": {
      "text/plain": [
       "['paper_count',\n",
       " 'paper_authOrder_0',\n",
       " 'paper_conferenceChoice_0',\n",
       " 'paper_paperState_0',\n",
       " 'paper_labels_0',\n",
       " 'paper_authOrder_1',\n",
       " 'paper_conferenceChoice_1',\n",
       " 'paper_paperState_1',\n",
       " 'paper_labels_1',\n",
       " 'paper_authOrder_2',\n",
       " 'paper_conferenceChoice_2',\n",
       " 'paper_paperState_2',\n",
       " 'paper_labels_2',\n",
       " 'patent_record_count',\n",
       " 'patent_record_classify_0',\n",
       " 'patent_record_classify_1',\n",
       " 'patent_record_classify_2',\n",
       " 'research_award_count',\n",
       " 'research_award_competeRange_0',\n",
       " 'research_award_awardLevel_0',\n",
       " 'research_award_labels_0',\n",
       " 'research_award_competeRange_1',\n",
       " 'research_award_awardLevel_1',\n",
       " 'research_award_labels_1',\n",
       " 'research_award_competeRange_2',\n",
       " 'research_award_awardLevel_2',\n",
       " 'research_award_labels_2',\n",
       " 'research_project_count',\n",
       " 'research_project_projectType_0',\n",
       " 'research_project_projectType_1',\n",
       " 'research_project_projectType_2',\n",
       " 'competition_award_count',\n",
       " 'competition_award_competeRange_0',\n",
       " 'competition_award_awardLevel_0',\n",
       " 'competition_award_labels_0',\n",
       " 'competition_award_competeRange_1',\n",
       " 'competition_award_awardLevel_1',\n",
       " 'competition_award_labels_1',\n",
       " 'competition_award_competeRange_2',\n",
       " 'competition_award_awardLevel_2',\n",
       " 'competition_award_labels_2',\n",
       " 'honor_title_count',\n",
       " 'honor_title_honorRank_0',\n",
       " 'honor_title_honorRank_1',\n",
       " 'honor_title_honorRank_2',\n",
       " 'other_achievements_count',\n",
       " 'other_achievements_honorRank_0',\n",
       " 'other_achievements_honorRank_1',\n",
       " 'other_achievements_honorRank_2']"
      ]
     },
     "execution_count": 42,
     "metadata": {},
     "output_type": "execute_result"
    }
   ],
   "source": [
    "sparse_features"
   ]
  },
  {
   "cell_type": "code",
   "execution_count": 43,
   "metadata": {},
   "outputs": [],
   "source": [
    "dense_features = col[-12: ]"
   ]
  },
  {
   "cell_type": "code",
   "execution_count": 44,
   "metadata": {},
   "outputs": [
    {
     "data": {
      "text/plain": [
       "['po_grade',\n",
       " 'po_credit',\n",
       " 'pm_grade',\n",
       " 'pm_credit',\n",
       " 'op_grade',\n",
       " 'op_credit',\n",
       " 'cm_grade',\n",
       " 'cm_credit',\n",
       " 'uc_grade',\n",
       " 'uc_credit',\n",
       " 'tl_grade',\n",
       " 'tl_credit']"
      ]
     },
     "execution_count": 44,
     "metadata": {},
     "output_type": "execute_result"
    }
   ],
   "source": [
    "dense_features"
   ]
  },
  {
   "cell_type": "code",
   "execution_count": 45,
   "metadata": {},
   "outputs": [],
   "source": [
    "new_sparse = []\n",
    "for k in sparse_features:\n",
    "    if \"count\" in k:\n",
    "        dense_features.append(k)\n",
    "    else:\n",
    "        new_sparse.append(k)"
   ]
  },
  {
   "cell_type": "code",
   "execution_count": 46,
   "metadata": {
    "scrolled": true
   },
   "outputs": [
    {
     "data": {
      "text/plain": [
       "['po_grade',\n",
       " 'po_credit',\n",
       " 'pm_grade',\n",
       " 'pm_credit',\n",
       " 'op_grade',\n",
       " 'op_credit',\n",
       " 'cm_grade',\n",
       " 'cm_credit',\n",
       " 'uc_grade',\n",
       " 'uc_credit',\n",
       " 'tl_grade',\n",
       " 'tl_credit',\n",
       " 'paper_count',\n",
       " 'patent_record_count',\n",
       " 'research_award_count',\n",
       " 'research_project_count',\n",
       " 'competition_award_count',\n",
       " 'honor_title_count',\n",
       " 'other_achievements_count']"
      ]
     },
     "execution_count": 46,
     "metadata": {},
     "output_type": "execute_result"
    }
   ],
   "source": [
    "dense_features"
   ]
  },
  {
   "cell_type": "code",
   "execution_count": 47,
   "metadata": {
    "scrolled": true
   },
   "outputs": [],
   "source": [
    "sparse_features = new_sparse"
   ]
  },
  {
   "cell_type": "code",
   "execution_count": 48,
   "metadata": {},
   "outputs": [],
   "source": [
    "for feat in sparse_features:\n",
    "        lbe = LabelEncoder()\n",
    "        df[feat] = lbe.fit_transform(df[feat])\n",
    "mms = MinMaxScaler(feature_range=(0, 1))\n",
    "df[dense_features] = mms.fit_transform(df[dense_features])"
   ]
  },
  {
   "cell_type": "code",
   "execution_count": 49,
   "metadata": {},
   "outputs": [],
   "source": [
    "fixlen_feature_columns = [SparseFeat(feat, vocabulary_size=df[feat].nunique(),embedding_dim=4 )\n",
    "                           for i,feat in enumerate(sparse_features)] + [DenseFeat(feat, 1,)\n",
    "                          for feat in dense_features]"
   ]
  },
  {
   "cell_type": "code",
   "execution_count": 50,
   "metadata": {},
   "outputs": [],
   "source": [
    "dnn_feature_columns = fixlen_feature_columns\n",
    "linear_feature_columns = fixlen_feature_columns\n",
    "feature_names = get_feature_names(linear_feature_columns + dnn_feature_columns)"
   ]
  },
  {
   "cell_type": "code",
   "execution_count": 60,
   "metadata": {},
   "outputs": [],
   "source": [
    "train_x, test_x, train_y, test_y = train_test_split(df, df_label, test_size=0.2, random_state=2021)"
   ]
  },
  {
   "cell_type": "code",
   "execution_count": 52,
   "metadata": {},
   "outputs": [],
   "source": [
    "train_model_input = {name:train_x[name] for name in feature_names}\n",
    "test_model_input = {name:test_x[name] for name in feature_names}"
   ]
  },
  {
   "cell_type": "code",
   "execution_count": 53,
   "metadata": {},
   "outputs": [
    {
     "name": "stdout",
     "output_type": "stream",
     "text": [
      "WARNING:tensorflow:From /Users/cuichengyuan/anaconda3/lib/python3.7/site-packages/tensorflow/python/ops/resource_variable_ops.py:435: colocate_with (from tensorflow.python.framework.ops) is deprecated and will be removed in a future version.\n",
      "Instructions for updating:\n",
      "Colocations handled automatically by placer.\n",
      "WARNING:tensorflow:From /Users/cuichengyuan/anaconda3/lib/python3.7/site-packages/deepctr/layers/utils.py:171: calling reduce_sum_v1 (from tensorflow.python.ops.math_ops) with keep_dims is deprecated and will be removed in a future version.\n",
      "Instructions for updating:\n",
      "keep_dims is deprecated, use keepdims instead\n",
      "WARNING:tensorflow:From /Users/cuichengyuan/anaconda3/lib/python3.7/site-packages/tensorflow/python/keras/layers/core.py:143: calling dropout (from tensorflow.python.ops.nn_ops) with keep_prob is deprecated and will be removed in a future version.\n",
      "Instructions for updating:\n",
      "Please use `rate` instead of `keep_prob`. Rate should be set to `rate = 1 - keep_prob`.\n"
     ]
    }
   ],
   "source": [
    "model = DeepFM(linear_feature_columns, dnn_feature_columns, task='binary')\n",
    "model.compile(\"adam\", \"binary_crossentropy\",\n",
    "              metrics=['binary_crossentropy'], )"
   ]
  },
  {
   "cell_type": "code",
   "execution_count": 63,
   "metadata": {},
   "outputs": [
    {
     "name": "stdout",
     "output_type": "stream",
     "text": [
      "Train on 80 samples, validate on 20 samples\n",
      "Epoch 1/40\n",
      " - 0s - loss: 0.5975 - binary_crossentropy: 0.5974 - val_loss: 0.5178 - val_binary_crossentropy: 0.5178\n",
      "Epoch 2/40\n",
      " - 0s - loss: 0.5920 - binary_crossentropy: 0.5920 - val_loss: 0.5045 - val_binary_crossentropy: 0.5045\n",
      "Epoch 3/40\n",
      " - 0s - loss: 0.5881 - binary_crossentropy: 0.5881 - val_loss: 0.4937 - val_binary_crossentropy: 0.4937\n",
      "Epoch 4/40\n",
      " - 0s - loss: 0.5853 - binary_crossentropy: 0.5853 - val_loss: 0.4851 - val_binary_crossentropy: 0.4851\n",
      "Epoch 5/40\n",
      " - 0s - loss: 0.5831 - binary_crossentropy: 0.5831 - val_loss: 0.4786 - val_binary_crossentropy: 0.4786\n",
      "Epoch 6/40\n",
      " - 0s - loss: 0.5810 - binary_crossentropy: 0.5810 - val_loss: 0.4738 - val_binary_crossentropy: 0.4738\n",
      "Epoch 7/40\n",
      " - 0s - loss: 0.5785 - binary_crossentropy: 0.5785 - val_loss: 0.4705 - val_binary_crossentropy: 0.4705\n",
      "Epoch 8/40\n",
      " - 0s - loss: 0.5753 - binary_crossentropy: 0.5753 - val_loss: 0.4685 - val_binary_crossentropy: 0.4685\n",
      "Epoch 9/40\n",
      " - 0s - loss: 0.5712 - binary_crossentropy: 0.5712 - val_loss: 0.4678 - val_binary_crossentropy: 0.4678\n",
      "Epoch 10/40\n",
      " - 0s - loss: 0.5663 - binary_crossentropy: 0.5663 - val_loss: 0.4683 - val_binary_crossentropy: 0.4683\n",
      "Epoch 11/40\n",
      " - 0s - loss: 0.5608 - binary_crossentropy: 0.5608 - val_loss: 0.4699 - val_binary_crossentropy: 0.4699\n",
      "Epoch 12/40\n",
      " - 0s - loss: 0.5549 - binary_crossentropy: 0.5549 - val_loss: 0.4724 - val_binary_crossentropy: 0.4724\n",
      "Epoch 13/40\n",
      " - 0s - loss: 0.5489 - binary_crossentropy: 0.5488 - val_loss: 0.4759 - val_binary_crossentropy: 0.4759\n",
      "Epoch 14/40\n",
      " - 0s - loss: 0.5430 - binary_crossentropy: 0.5430 - val_loss: 0.4804 - val_binary_crossentropy: 0.4804\n",
      "Epoch 15/40\n",
      " - 0s - loss: 0.5374 - binary_crossentropy: 0.5374 - val_loss: 0.4852 - val_binary_crossentropy: 0.4852\n",
      "Epoch 16/40\n",
      " - 0s - loss: 0.5321 - binary_crossentropy: 0.5321 - val_loss: 0.4898 - val_binary_crossentropy: 0.4897\n",
      "Epoch 17/40\n",
      " - 0s - loss: 0.5270 - binary_crossentropy: 0.5270 - val_loss: 0.4934 - val_binary_crossentropy: 0.4933\n",
      "Epoch 18/40\n",
      " - 0s - loss: 0.5219 - binary_crossentropy: 0.5219 - val_loss: 0.4950 - val_binary_crossentropy: 0.4950\n",
      "Epoch 19/40\n",
      " - 0s - loss: 0.5164 - binary_crossentropy: 0.5164 - val_loss: 0.4944 - val_binary_crossentropy: 0.4944\n",
      "Epoch 20/40\n",
      " - 0s - loss: 0.5104 - binary_crossentropy: 0.5104 - val_loss: 0.4911 - val_binary_crossentropy: 0.4911\n",
      "Epoch 21/40\n",
      " - 0s - loss: 0.5039 - binary_crossentropy: 0.5039 - val_loss: 0.4858 - val_binary_crossentropy: 0.4858\n",
      "Epoch 22/40\n",
      " - 0s - loss: 0.4969 - binary_crossentropy: 0.4969 - val_loss: 0.4788 - val_binary_crossentropy: 0.4788\n",
      "Epoch 23/40\n",
      " - 0s - loss: 0.4897 - binary_crossentropy: 0.4897 - val_loss: 0.4710 - val_binary_crossentropy: 0.4709\n",
      "Epoch 24/40\n",
      " - 0s - loss: 0.4826 - binary_crossentropy: 0.4826 - val_loss: 0.4633 - val_binary_crossentropy: 0.4633\n",
      "Epoch 25/40\n",
      " - 0s - loss: 0.4757 - binary_crossentropy: 0.4757 - val_loss: 0.4565 - val_binary_crossentropy: 0.4565\n",
      "Epoch 26/40\n",
      " - 0s - loss: 0.4691 - binary_crossentropy: 0.4691 - val_loss: 0.4509 - val_binary_crossentropy: 0.4509\n",
      "Epoch 27/40\n",
      " - 0s - loss: 0.4624 - binary_crossentropy: 0.4624 - val_loss: 0.4471 - val_binary_crossentropy: 0.4471\n",
      "Epoch 28/40\n",
      " - 0s - loss: 0.4556 - binary_crossentropy: 0.4556 - val_loss: 0.4453 - val_binary_crossentropy: 0.4453\n",
      "Epoch 29/40\n",
      " - 0s - loss: 0.4485 - binary_crossentropy: 0.4485 - val_loss: 0.4458 - val_binary_crossentropy: 0.4458\n",
      "Epoch 30/40\n",
      " - 0s - loss: 0.4411 - binary_crossentropy: 0.4411 - val_loss: 0.4486 - val_binary_crossentropy: 0.4486\n",
      "Epoch 31/40\n",
      " - 0s - loss: 0.4337 - binary_crossentropy: 0.4337 - val_loss: 0.4528 - val_binary_crossentropy: 0.4528\n",
      "Epoch 32/40\n",
      " - 0s - loss: 0.4263 - binary_crossentropy: 0.4263 - val_loss: 0.4574 - val_binary_crossentropy: 0.4574\n",
      "Epoch 33/40\n",
      " - 0s - loss: 0.4190 - binary_crossentropy: 0.4190 - val_loss: 0.4607 - val_binary_crossentropy: 0.4607\n",
      "Epoch 34/40\n",
      " - 0s - loss: 0.4116 - binary_crossentropy: 0.4116 - val_loss: 0.4614 - val_binary_crossentropy: 0.4614\n",
      "Epoch 35/40\n",
      " - 0s - loss: 0.4038 - binary_crossentropy: 0.4038 - val_loss: 0.4593 - val_binary_crossentropy: 0.4593\n",
      "Epoch 36/40\n",
      " - 0s - loss: 0.3955 - binary_crossentropy: 0.3955 - val_loss: 0.4554 - val_binary_crossentropy: 0.4554\n",
      "Epoch 37/40\n",
      " - 0s - loss: 0.3872 - binary_crossentropy: 0.3872 - val_loss: 0.4516 - val_binary_crossentropy: 0.4516\n",
      "Epoch 38/40\n",
      " - 0s - loss: 0.3789 - binary_crossentropy: 0.3789 - val_loss: 0.4496 - val_binary_crossentropy: 0.4496\n",
      "Epoch 39/40\n",
      " - 0s - loss: 0.3706 - binary_crossentropy: 0.3706 - val_loss: 0.4503 - val_binary_crossentropy: 0.4502\n",
      "Epoch 40/40\n",
      " - 0s - loss: 0.3620 - binary_crossentropy: 0.3620 - val_loss: 0.4537 - val_binary_crossentropy: 0.4536\n"
     ]
    }
   ],
   "source": [
    "history = model.fit(train_model_input, train_y,\n",
    "                        batch_size=256, epochs=40, verbose=2, validation_split=0.2, )"
   ]
  },
  {
   "cell_type": "code",
   "execution_count": 64,
   "metadata": {},
   "outputs": [],
   "source": [
    "pred_ans = model.predict(test_model_input, batch_size=256)"
   ]
  },
  {
   "cell_type": "code",
   "execution_count": 66,
   "metadata": {},
   "outputs": [
    {
     "name": "stdout",
     "output_type": "stream",
     "text": [
      "test LogLoss 0.2527\n",
      "test AUC 0.9875\n"
     ]
    }
   ],
   "source": [
    "print(\"test LogLoss\", round(log_loss(test_y, pred_ans), 4))\n",
    "print(\"test AUC\", round(roc_auc_score(test_y, pred_ans), 4))"
   ]
  },
  {
   "cell_type": "code",
   "execution_count": 67,
   "metadata": {},
   "outputs": [
    {
     "data": {
      "text/plain": [
       "array([[0.18658972],\n",
       "       [0.95354056],\n",
       "       [0.7153368 ],\n",
       "       [0.2928978 ],\n",
       "       [0.97949106],\n",
       "       [0.7172941 ],\n",
       "       [0.6912255 ],\n",
       "       [0.2926982 ],\n",
       "       [0.9644394 ],\n",
       "       [0.07822895],\n",
       "       [0.9675057 ],\n",
       "       [0.31998906],\n",
       "       [0.08443311],\n",
       "       [0.06782943],\n",
       "       [0.37820196],\n",
       "       [0.16298962],\n",
       "       [0.09874278],\n",
       "       [0.1546762 ],\n",
       "       [0.06636116],\n",
       "       [0.14010528],\n",
       "       [0.19755483],\n",
       "       [0.21082819],\n",
       "       [0.19293353],\n",
       "       [0.0907647 ],\n",
       "       [0.8614922 ],\n",
       "       [0.16081329]], dtype=float32)"
      ]
     },
     "execution_count": 67,
     "metadata": {},
     "output_type": "execute_result"
    }
   ],
   "source": [
    "pred_ans"
   ]
  },
  {
   "cell_type": "code",
   "execution_count": 75,
   "metadata": {},
   "outputs": [
    {
     "data": {
      "text/plain": [
       "26"
      ]
     },
     "execution_count": 75,
     "metadata": {},
     "output_type": "execute_result"
    }
   ],
   "source": [
    "len([0, 1, 1, 0, 1, 1, 1, 0, 1, 0, 1, 0, 0, 0, 0, 0, 0, 0, 0, 0, 0, 0, 0, 0, 1, 0])"
   ]
  },
  {
   "cell_type": "code",
   "execution_count": 77,
   "metadata": {},
   "outputs": [
    {
     "data": {
      "text/plain": [
       "26"
      ]
     },
     "execution_count": 77,
     "metadata": {},
     "output_type": "execute_result"
    }
   ],
   "source": [
    "len(test_y)"
   ]
  },
  {
   "cell_type": "code",
   "execution_count": 78,
   "metadata": {},
   "outputs": [
    {
     "data": {
      "text/plain": [
       "0.9230769230769231"
      ]
     },
     "execution_count": 78,
     "metadata": {},
     "output_type": "execute_result"
    }
   ],
   "source": [
    "from sklearn.metrics import accuracy_score\n",
    "\n",
    "accuracy_score([0, 1, 1, 0, 1, 1, 1, 0, 1, 0, 1, 0, 0, 0, 0, 0, 0, 0, 0, 0, 0, 0, 0, 0, 1, 0], test_y)"
   ]
  },
  {
   "cell_type": "code",
   "execution_count": null,
   "metadata": {},
   "outputs": [],
   "source": []
  }
 ],
 "metadata": {
  "kernelspec": {
   "display_name": "Python 3",
   "language": "python",
   "name": "python3"
  },
  "language_info": {
   "codemirror_mode": {
    "name": "ipython",
    "version": 3
   },
   "file_extension": ".py",
   "mimetype": "text/x-python",
   "name": "python",
   "nbconvert_exporter": "python",
   "pygments_lexer": "ipython3",
   "version": "3.7.7"
  }
 },
 "nbformat": 4,
 "nbformat_minor": 4
}
