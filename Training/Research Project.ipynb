{
 "cells": [
  {
   "cell_type": "markdown",
   "metadata": {},
   "source": [
    "# 对Research Project 实现聚类"
   ]
  },
  {
   "cell_type": "markdown",
   "metadata": {},
   "source": [
    "### 环境准备"
   ]
  },
  {
   "cell_type": "markdown",
   "metadata": {},
   "source": [
    "##### 常用环境导入"
   ]
  },
  {
   "cell_type": "code",
   "execution_count": 1,
   "metadata": {},
   "outputs": [],
   "source": [
    "from sklearn.cluster import KMeans\n",
    "from sklearn.metrics import silhouette_score\n",
    "from sklearn.metrics import calinski_harabasz_score\n",
    "from sklearn.decomposition import PCA\n",
    "import pandas as pd\n",
    "import numpy as np\n",
    "import seaborn as sns\n",
    "from sklearn.manifold import TSNE"
   ]
  },
  {
   "cell_type": "markdown",
   "metadata": {},
   "source": [
    "##### 导入matplotlib"
   ]
  },
  {
   "cell_type": "code",
   "execution_count": 2,
   "metadata": {},
   "outputs": [],
   "source": [
    "import matplotlib.pyplot as plt\n",
    "import matplotlib\n",
    "%matplotlib inline"
   ]
  },
  {
   "cell_type": "markdown",
   "metadata": {},
   "source": [
    "### 连接数据库"
   ]
  },
  {
   "cell_type": "code",
   "execution_count": 3,
   "metadata": {},
   "outputs": [
    {
     "data": {
      "text/plain": [
       "[('Training',),\n",
       " ('UserTemp',),\n",
       " ('account_confirmstring',),\n",
       " ('account_profile_awardhistory',),\n",
       " ('account_profile_awardhistory_User',),\n",
       " ('account_profile_competitionrecord',),\n",
       " ('account_profile_honortitle',),\n",
       " ('account_profile_paperrecord',),\n",
       " ('account_profile_patentrecord',),\n",
       " ('account_profile_publishrecord',),\n",
       " ('account_profile_researchproject',),\n",
       " ('account_user',),\n",
       " ('account_user_groups',),\n",
       " ('account_user_user_permissions',),\n",
       " ('auth_group',),\n",
       " ('auth_group_permissions',),\n",
       " ('auth_permission',),\n",
       " ('award_info_awardclassification',),\n",
       " ('award_info_awardinfo',),\n",
       " ('award_info_awardinfo_Major',),\n",
       " ('award_info_awardinfopost',),\n",
       " ('award_info_category',),\n",
       " ('award_info_post',),\n",
       " ('award_info_post_tags',),\n",
       " ('award_info_post_users_focus',),\n",
       " ('award_info_tag',),\n",
       " ('captcha_captchastore',),\n",
       " ('django_admin_log',),\n",
       " ('django_content_type',),\n",
       " ('django_migrations',),\n",
       " ('django_session',),\n",
       " ('grade_info_deptinfo',),\n",
       " ('grade_info_gradeinfo',),\n",
       " ('grade_info_lessoninfo',),\n",
       " ('grade_info_lessoninfo_AffiliatedMajor',),\n",
       " ('grade_info_majorinfo',),\n",
       " ('grade_info_relationship',),\n",
       " ('grade_info_schoolyearinfo',),\n",
       " ('sqlite_sequence',)]"
      ]
     },
     "execution_count": 3,
     "metadata": {},
     "output_type": "execute_result"
    }
   ],
   "source": [
    "import sqlite3\n",
    "conn = sqlite3.connect(\"../db.sqlite3\")\n",
    "cur = conn.cursor()\n",
    "table_name = cur.execute(\"select name from sqlite_master where type='table' order by name\").fetchall()\n",
    "table_name"
   ]
  },
  {
   "cell_type": "code",
   "execution_count": 4,
   "metadata": {},
   "outputs": [
    {
     "data": {
      "text/plain": [
       "[(0, 'id', 'integer', 1, None, 1),\n",
       " (1, 'name', 'varchar(256)', 1, None, 0),\n",
       " (2, 'projectType', 'varchar(2)', 1, None, 0),\n",
       " (3, 'projectWork', 'varchar(256)', 1, None, 0),\n",
       " (4, 'SchoolYearInfo_id', 'integer', 1, None, 0),\n",
       " (5, 'User_id', 'integer', 1, None, 0)]"
      ]
     },
     "execution_count": 4,
     "metadata": {},
     "output_type": "execute_result"
    }
   ],
   "source": [
    "cur.execute(\"PRAGMA table_info(account_profile_researchproject)\")\n",
    "cur.fetchall()"
   ]
  },
  {
   "cell_type": "code",
   "execution_count": 5,
   "metadata": {},
   "outputs": [],
   "source": [
    "csv_head = [\"id\", \"User_id\", \"projectType\"]\n",
    "record = conn.execute(\"select {} from account_profile_researchproject\".format(\",\".join(csv_head)))"
   ]
  },
  {
   "cell_type": "code",
   "execution_count": 6,
   "metadata": {},
   "outputs": [],
   "source": [
    "import csv"
   ]
  },
  {
   "cell_type": "code",
   "execution_count": 7,
   "metadata": {},
   "outputs": [],
   "source": [
    "def save_csv(record, csv_head, csv_name):\n",
    "    with open(csv_name, \"w\", newline=\"\") as f:\n",
    "        ff = csv.writer(f)\n",
    "        ff.writerow(csv_head)\n",
    "        ff.writerows(record)"
   ]
  },
  {
   "cell_type": "code",
   "execution_count": 8,
   "metadata": {},
   "outputs": [],
   "source": [
    "def read_record(csv_name, csv_head):\n",
    "    df_record = pd.read_csv(csv_name, header=0, encoding=\"utf-8\")\n",
    "    mapping = list(map(lambda x:False if x <= 1 else True, [i for i in range(0, len(csv_head))]))\n",
    "#     df_one_hot = pd.factorize(df_record.loc[:, mapping].copy())\n",
    "    df_fact = df_record.loc[:, mapping].copy()\n",
    "    df_one_hot = pd.get_dummies(df_record.loc[:, mapping].copy())\n",
    "    return df_record, df_one_hot, df_fact"
   ]
  },
  {
   "cell_type": "markdown",
   "metadata": {},
   "source": [
    "##### save_csv"
   ]
  },
  {
   "cell_type": "code",
   "execution_count": 9,
   "metadata": {},
   "outputs": [],
   "source": [
    "save_csv(record, csv_head, \"research_project.csv\")"
   ]
  },
  {
   "cell_type": "markdown",
   "metadata": {},
   "source": [
    "##### read_csv"
   ]
  },
  {
   "cell_type": "code",
   "execution_count": 10,
   "metadata": {},
   "outputs": [
    {
     "data": {
      "text/plain": [
       "Index(['projectType'], dtype='object')"
      ]
     },
     "execution_count": 10,
     "metadata": {},
     "output_type": "execute_result"
    }
   ],
   "source": [
    "df_record, df_record_one_hot, df_record_fact = read_record(\"research_project.csv\", csv_head)\n",
    "df_record_fact.columns"
   ]
  },
  {
   "cell_type": "markdown",
   "metadata": {},
   "source": [
    "### Factorize 或Mapping 给 record赋值"
   ]
  },
  {
   "cell_type": "markdown",
   "metadata": {},
   "source": [
    "##### Mapping"
   ]
  },
  {
   "cell_type": "code",
   "execution_count": 11,
   "metadata": {},
   "outputs": [],
   "source": [
    "projectType_mapping = {\n",
    "    \"ng\": 1,\n",
    "    \"nm\": 2,\n",
    "    \"ns\": 3,\n",
    "    \"no\": 4,\n",
    "    \"p9\": 5,\n",
    "    \"p8\": 6,\n",
    "    \"ot\": 7\n",
    "}\n",
    "\n",
    "df_record_fact[\"projectType\"] = df_record_fact[\"projectType\"].map(projectType_mapping)"
   ]
  },
  {
   "cell_type": "markdown",
   "metadata": {},
   "source": [
    "##### Factorize"
   ]
  },
  {
   "cell_type": "code",
   "execution_count": null,
   "metadata": {},
   "outputs": [],
   "source": [
    "for i in df_record_fact.columns:\n",
    "    df_record_fact[i] = pd.Series(pd.factorize(df_record_fact[i])[0])"
   ]
  },
  {
   "cell_type": "markdown",
   "metadata": {},
   "source": [
    "### 保存CSV"
   ]
  },
  {
   "cell_type": "markdown",
   "metadata": {},
   "source": [
    "##### one-hot"
   ]
  },
  {
   "cell_type": "code",
   "execution_count": 14,
   "metadata": {},
   "outputs": [],
   "source": [
    "df_record_one_hot['user_id'] = df_record.loc[:, [\"User_id\"]]\n",
    "df_record_one_hot = df_record_one_hot.sort_values(\"user_id\").reset_index(drop=True)\n",
    "df_record_one_hot.to_csv(\"research_project_one_hot.csv\")"
   ]
  },
  {
   "cell_type": "markdown",
   "metadata": {},
   "source": [
    "##### factorize"
   ]
  },
  {
   "cell_type": "code",
   "execution_count": 16,
   "metadata": {},
   "outputs": [],
   "source": [
    "df_record_fact[\"user_id\"] = df_record.loc[:, ['User_id']]\n",
    "df_record_fact = df_record_fact.sort_values(\"user_id\").reset_index(drop=True)\n",
    "df_record_fact.to_csv(\"research_project_fact.csv\")"
   ]
  }
 ],
 "metadata": {
  "kernelspec": {
   "display_name": "Python 3",
   "language": "python",
   "name": "python3"
  },
  "language_info": {
   "codemirror_mode": {
    "name": "ipython",
    "version": 3
   },
   "file_extension": ".py",
   "mimetype": "text/x-python",
   "name": "python",
   "nbconvert_exporter": "python",
   "pygments_lexer": "ipython3",
   "version": "3.7.7"
  }
 },
 "nbformat": 4,
 "nbformat_minor": 4
}
