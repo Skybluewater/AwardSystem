{
 "cells": [
  {
   "cell_type": "code",
   "execution_count": 1,
   "metadata": {},
   "outputs": [],
   "source": [
    "import pandas as pd\n",
    "import numpy as np"
   ]
  },
  {
   "cell_type": "code",
   "execution_count": 3,
   "metadata": {},
   "outputs": [],
   "source": [
    "import sqlite3\n",
    "conn = sqlite3.connect(\"../db.sqlite3\")\n",
    "cur = conn.cursor()\n",
    "csv_head = [\"id\", \"User_id\", \"classify\"]\n",
    "record = conn.execute(\"select {} from account_profile_patentrecord\".format(\",\".join(csv_head)))"
   ]
  },
  {
   "cell_type": "code",
   "execution_count": 4,
   "metadata": {},
   "outputs": [],
   "source": [
    "import csv"
   ]
  },
  {
   "cell_type": "code",
   "execution_count": 6,
   "metadata": {},
   "outputs": [],
   "source": [
    "def save_csv(record, csv_head, csv_name):\n",
    "    with open(csv_name, \"w\", newline=\"\") as f:\n",
    "        ff = csv.writer(f)\n",
    "        ff.writerow(csv_head)\n",
    "        ff.writerows(record)\n",
    "        \n",
    "def read_record(csv_name, csv_head):\n",
    "    df_record = pd.read_csv(csv_name, header=0, encoding=\"utf-8\")\n",
    "    mapping = list(map(lambda x:False if x <= 1 else True, [i for i in range(0, len(csv_head))]))\n",
    "#     df_one_hot = pd.factorize(df_record.loc[:, mapping].copy())\n",
    "    df_fact = df_record.loc[:, mapping].copy()\n",
    "    df_one_hot = pd.get_dummies(df_record.loc[:, mapping].copy())\n",
    "    return df_record, df_one_hot, df_fact"
   ]
  },
  {
   "cell_type": "code",
   "execution_count": 7,
   "metadata": {},
   "outputs": [],
   "source": [
    "save_csv(record, csv_head, \"patent_record.csv\")"
   ]
  },
  {
   "cell_type": "code",
   "execution_count": 8,
   "metadata": {},
   "outputs": [
    {
     "data": {
      "text/plain": [
       "Index(['classify'], dtype='object')"
      ]
     },
     "execution_count": 8,
     "metadata": {},
     "output_type": "execute_result"
    }
   ],
   "source": [
    "df_record, df_record_one_hot, df_record_fact = read_record(\"patent_record.csv\", csv_head)\n",
    "df_record_fact.columns"
   ]
  },
  {
   "cell_type": "code",
   "execution_count": 9,
   "metadata": {},
   "outputs": [],
   "source": [
    "classify_mapping = {\n",
    "    \"ip\": 1,\n",
    "    \"ot\": 2\n",
    "}\n",
    "\n",
    "df_record_fact['classify'] = df_record_fact['classify'].map(classify_mapping)"
   ]
  },
  {
   "cell_type": "code",
   "execution_count": 11,
   "metadata": {},
   "outputs": [],
   "source": [
    "df_record_one_hot['user_id'] = df_record.loc[:, [\"User_id\"]]\n",
    "df_record_one_hot = df_record_one_hot.sort_values(\"user_id\").reset_index(drop=True)\n",
    "df_record_one_hot.to_csv(\"patent_record_one_hot.csv\")"
   ]
  },
  {
   "cell_type": "code",
   "execution_count": 12,
   "metadata": {},
   "outputs": [],
   "source": [
    "df_record_fact['user_id'] = df_record.loc[:, [\"User_id\"]]\n",
    "df_record_fact = df_record_fact.sort_values(\"user_id\").reset_index(drop=True)\n",
    "df_record_fact.to_csv(\"patent_record_fact.csv\")##### factorize"
   ]
  }
 ],
 "metadata": {
  "kernelspec": {
   "display_name": "Python 3",
   "language": "python",
   "name": "python3"
  },
  "language_info": {
   "codemirror_mode": {
    "name": "ipython",
    "version": 3
   },
   "file_extension": ".py",
   "mimetype": "text/x-python",
   "name": "python",
   "nbconvert_exporter": "python",
   "pygments_lexer": "ipython3",
   "version": "3.7.7"
  }
 },
 "nbformat": 4,
 "nbformat_minor": 4
}
