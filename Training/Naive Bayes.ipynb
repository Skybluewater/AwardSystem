{
 "cells": [
  {
   "cell_type": "code",
   "execution_count": 1,
   "metadata": {},
   "outputs": [],
   "source": [
    "import pandas as pd\n",
    "import numpy as np\n",
    "import matplotlib.pyplot as plt\n",
    "import matplotlib\n",
    "%matplotlib inline"
   ]
  },
  {
   "cell_type": "code",
   "execution_count": 2,
   "metadata": {},
   "outputs": [],
   "source": [
    "df_all = pd.read_csv(\"48_features.csv\", header=0, encoding=\"utf-8\").drop([\"Unnamed: 0\"], axis=1)\n",
    "df_all.fillna(0, inplace=True)\n",
    "df_all = df_all.astype(\"int32\")"
   ]
  },
  {
   "cell_type": "code",
   "execution_count": 3,
   "metadata": {},
   "outputs": [
    {
     "data": {
      "text/plain": [
       "award_id\n",
       "0     4\n",
       "1    27\n",
       "2    40\n",
       "3    86\n",
       "4     8\n",
       "5     4\n",
       "6    11\n",
       "7     3\n",
       "8     1\n",
       "Name: award_id, dtype: int64"
      ]
     },
     "execution_count": 3,
     "metadata": {},
     "output_type": "execute_result"
    }
   ],
   "source": [
    "df_all.groupby(\"award_id\")[\"award_id\"].count()"
   ]
  },
  {
   "cell_type": "code",
   "execution_count": 9,
   "metadata": {},
   "outputs": [],
   "source": [
    "labels_grt_10 = [i[0] for i in list(zip([i for i in range(0, 9)], list(df_all.groupby(\"award_id\")['award_id'].count() > 10))) if i[1]]\n",
    "df_10 = pd.DataFrame(columns=df_all.columns)\n",
    "for index, row in df_all.iterrows():\n",
    "    if row[\"award_id\"] in labels_grt_10:\n",
    "        df_10 = df_10.append(row, ignore_index=True)\n",
    "df_10.fillna(0, inplace=True)\n",
    "df_10 = df_10.astype(\"int32\")"
   ]
  },
  {
   "cell_type": "code",
   "execution_count": 4,
   "metadata": {},
   "outputs": [],
   "source": [
    "df_2 = pd.DataFrame(columns=df_all.columns)\n",
    "for index, row in df_all.iterrows():\n",
    "    if row[\"award_id\"] in [2, 3]:\n",
    "        df_2 = df_2.append(row, ignore_index=True)\n",
    "\n",
    "df_2.fillna(0, inplace=True)\n",
    "df_2 = df_2.astype(\"int32\")"
   ]
  },
  {
   "cell_type": "code",
   "execution_count": 5,
   "metadata": {},
   "outputs": [],
   "source": [
    "def data_to_read(name):\n",
    "    return eval(name)"
   ]
  },
  {
   "cell_type": "code",
   "execution_count": 6,
   "metadata": {},
   "outputs": [],
   "source": [
    "# data = data_to_read(\"df_10\")\n",
    "df = data_to_read(\"df_2\")\n",
    "\n",
    "df_labels = df[\"award_id\"]\n",
    "df_user_id = df[\"user_id\"]\n",
    "\n",
    "df.drop(columns=[\"award_id\", \"user_id\"], axis=1, inplace=True)"
   ]
  },
  {
   "cell_type": "code",
   "execution_count": 8,
   "metadata": {},
   "outputs": [],
   "source": [
    "from sklearn.preprocessing import LabelEncoder\n",
    "from sklearn.model_selection import KFold, StratifiedKFold, train_test_split, cross_val_score\n",
    "import matplotlib.pyplot as plt\n",
    "import seaborn as sns\n",
    "# from xgboost.sklearn import XGBClassifier\n",
    "import gc\n",
    "from sklearn.metrics import accuracy_score, auc, roc_auc_score, roc_curve, mean_squared_error, zero_one_loss"
   ]
  },
  {
   "cell_type": "code",
   "execution_count": 10,
   "metadata": {},
   "outputs": [],
   "source": [
    "num_round = 1000\n",
    "\n",
    "data = df.copy()\n",
    "\n",
    "## category feature one_hot\n",
    "cate_feature = df.columns\n",
    "for item in cate_feature:\n",
    "    data[item] = LabelEncoder().fit_transform(data[item])\n",
    "    item_dummies = pd.get_dummies(data[item])\n",
    "    item_dummies.columns = [item + str(i + 1) for i in range(item_dummies.shape[1])]\n",
    "    data = pd.concat([data, item_dummies], axis=1)\n",
    "data.drop(cate_feature,axis=1,inplace=True)"
   ]
  },
  {
   "cell_type": "markdown",
   "metadata": {},
   "source": [
    "### data"
   ]
  },
  {
   "cell_type": "code",
   "execution_count": 11,
   "metadata": {},
   "outputs": [],
   "source": [
    "data_y = df_labels.factorize()[0]\n",
    "train_x, test_x, train_y, test_y = train_test_split(data, data_y, test_size=0.1, random_state=100)"
   ]
  },
  {
   "cell_type": "markdown",
   "metadata": {},
   "source": [
    "### 多项式分布朴素贝叶斯"
   ]
  },
  {
   "cell_type": "code",
   "execution_count": 14,
   "metadata": {},
   "outputs": [],
   "source": [
    "from sklearn.naive_bayes import MultinomialNB"
   ]
  },
  {
   "cell_type": "code",
   "execution_count": 15,
   "metadata": {},
   "outputs": [
    {
     "data": {
      "text/plain": [
       "array([1, 1, 0, 0, 0, 0, 0, 0, 0, 0, 0, 1, 0])"
      ]
     },
     "execution_count": 15,
     "metadata": {},
     "output_type": "execute_result"
    }
   ],
   "source": [
    "clf = MultinomialNB()\n",
    "clf = clf.fit(train_x, train_y)\n",
    "clf.predict(test_x)"
   ]
  },
  {
   "cell_type": "code",
   "execution_count": 16,
   "metadata": {},
   "outputs": [
    {
     "data": {
      "text/plain": [
       "array([1, 0, 0, 0, 0, 0, 0, 0, 1, 1, 1, 1, 0])"
      ]
     },
     "execution_count": 16,
     "metadata": {},
     "output_type": "execute_result"
    }
   ],
   "source": [
    "test_y"
   ]
  },
  {
   "cell_type": "code",
   "execution_count": 18,
   "metadata": {},
   "outputs": [
    {
     "data": {
      "text/plain": [
       "0.6923076923076923"
      ]
     },
     "execution_count": 18,
     "metadata": {},
     "output_type": "execute_result"
    }
   ],
   "source": [
    "accuracy_score(clf.predict(test_x), test_y)"
   ]
  },
  {
   "cell_type": "code",
   "execution_count": 19,
   "metadata": {},
   "outputs": [
    {
     "data": {
      "text/plain": [
       "0.753968253968254"
      ]
     },
     "execution_count": 19,
     "metadata": {},
     "output_type": "execute_result"
    }
   ],
   "source": [
    "accuracy_score(clf.predict(data), data_y)"
   ]
  },
  {
   "cell_type": "markdown",
   "metadata": {},
   "source": [
    "### 高斯朴素贝叶斯"
   ]
  },
  {
   "cell_type": "code",
   "execution_count": 1,
   "metadata": {},
   "outputs": [
    {
     "ename": "NameError",
     "evalue": "name 'train_x' is not defined",
     "output_type": "error",
     "traceback": [
      "\u001b[0;31m---------------------------------------------------------------------------\u001b[0m",
      "\u001b[0;31mNameError\u001b[0m                                 Traceback (most recent call last)",
      "\u001b[0;32m<ipython-input-1-24d3c0f8e038>\u001b[0m in \u001b[0;36m<module>\u001b[0;34m\u001b[0m\n\u001b[1;32m      2\u001b[0m \u001b[0;34m\u001b[0m\u001b[0m\n\u001b[1;32m      3\u001b[0m \u001b[0mclf_gauss\u001b[0m \u001b[0;34m=\u001b[0m \u001b[0mGaussianNB\u001b[0m\u001b[0;34m(\u001b[0m\u001b[0;34m)\u001b[0m\u001b[0;34m\u001b[0m\u001b[0;34m\u001b[0m\u001b[0m\n\u001b[0;32m----> 4\u001b[0;31m \u001b[0mclf_gauss\u001b[0m \u001b[0;34m=\u001b[0m \u001b[0mclf_gauss\u001b[0m\u001b[0;34m.\u001b[0m\u001b[0mfit\u001b[0m\u001b[0;34m(\u001b[0m\u001b[0mtrain_x\u001b[0m\u001b[0;34m,\u001b[0m \u001b[0mtrain_y\u001b[0m\u001b[0;34m)\u001b[0m\u001b[0;34m\u001b[0m\u001b[0;34m\u001b[0m\u001b[0m\n\u001b[0m\u001b[1;32m      5\u001b[0m \u001b[0maccuracy_score\u001b[0m\u001b[0;34m(\u001b[0m\u001b[0mclf_gauss\u001b[0m\u001b[0;34m.\u001b[0m\u001b[0mpredict\u001b[0m\u001b[0;34m(\u001b[0m\u001b[0mdata\u001b[0m\u001b[0;34m)\u001b[0m\u001b[0;34m,\u001b[0m \u001b[0mdata_y\u001b[0m\u001b[0;34m)\u001b[0m\u001b[0;34m\u001b[0m\u001b[0;34m\u001b[0m\u001b[0m\n",
      "\u001b[0;31mNameError\u001b[0m: name 'train_x' is not defined"
     ]
    }
   ],
   "source": [
    "from sklearn.naive_bayes import GaussianNB\n",
    "\n",
    "clf_gauss = GaussianNB()\n",
    "clf_gauss = clf_gauss.fit(train_x, train_y)\n",
    "accuracy_score(clf_gauss.predict(data), data_y)"
   ]
  },
  {
   "cell_type": "markdown",
   "metadata": {},
   "source": [
    "### 伯努利分布朴素贝叶斯（BernoulliNB）"
   ]
  },
  {
   "cell_type": "code",
   "execution_count": 21,
   "metadata": {},
   "outputs": [
    {
     "data": {
      "text/plain": [
       "0.7619047619047619"
      ]
     },
     "execution_count": 21,
     "metadata": {},
     "output_type": "execute_result"
    }
   ],
   "source": [
    "from sklearn.naive_bayes import BernoulliNB\n",
    "\n",
    "clf_ber = BernoulliNB()\n",
    "clf_ber = clf_ber.fit(train_x, train_y)\n",
    "accuracy_score(clf_ber.predict(data), data_y)"
   ]
  },
  {
   "cell_type": "code",
   "execution_count": 22,
   "metadata": {},
   "outputs": [
    {
     "data": {
      "text/plain": [
       "array([[-0.02531781, -3.68887945, -4.38202663, -0.02531781, -3.68887945,\n",
       "        -4.38202663, -0.02531781, -3.68887945, -4.38202663, -0.02531781,\n",
       "        -4.38202663, -3.68887945, -4.38202663, -4.38202663, -0.01257878,\n",
       "        -4.38202663, -0.01257878, -4.38202663, -4.38202663, -0.01257878,\n",
       "        -4.38202663, -4.38202663, -0.01257878, -4.38202663, -0.01257878,\n",
       "        -4.38202663, -0.01257878, -4.38202663, -0.03822121, -3.28341435,\n",
       "        -0.05129329, -2.99573227, -0.02531781, -3.68887945, -0.02531781,\n",
       "        -3.68887945, -0.02531781, -3.68887945, -0.02531781, -4.38202663,\n",
       "        -3.68887945, -0.02531781, -3.68887945, -4.38202663, -0.02531781,\n",
       "        -4.38202663, -3.68887945, -0.01257878, -0.01257878, -0.01257878,\n",
       "        -0.01257878, -0.01257878, -0.01257878, -0.06453852, -2.77258872,\n",
       "        -0.06453852, -4.38202663, -2.77258872, -0.02531781, -3.68887945,\n",
       "        -0.02531781, -3.68887945, -0.01257878, -4.38202663, -0.01257878,\n",
       "        -4.38202663, -0.01257878, -4.38202663, -0.01257878, -4.38202663,\n",
       "        -0.01257878, -0.01257878, -0.01257878, -0.01257878, -0.01257878,\n",
       "        -0.01257878, -0.02531781, -3.68887945, -4.38202663, -0.02531781,\n",
       "        -3.68887945, -0.01257878, -4.38202663, -0.01257878, -0.05129329,\n",
       "        -2.99573227, -0.05129329, -2.99573227, -0.01257878, -0.01257878],\n",
       "       [-0.11441035, -2.51230562, -2.91777073, -0.14518201, -2.91777073,\n",
       "        -2.22462355, -0.14518201, -2.91777073, -2.22462355, -0.14518201,\n",
       "        -2.51230562, -3.61091791, -2.91777073, -2.91777073, -0.08455739,\n",
       "        -2.51230562, -0.08455739, -2.91777073, -2.91777073, -0.08455739,\n",
       "        -2.91777073, -2.91777073, -0.05556985, -2.91777073, -0.05556985,\n",
       "        -2.91777073, -0.05556985, -2.91777073, -0.20972053, -1.66500776,\n",
       "        -0.20972053, -1.66500776, -0.02739897, -3.61091791, -0.02739897,\n",
       "        -3.61091791, -0.02739897, -3.61091791, -0.02739897, -3.61091791,\n",
       "        -3.61091791, -0.02739897, -3.61091791, -3.61091791, -0.02739897,\n",
       "        -3.61091791, -3.61091791, -0.02739897, -0.02739897, -0.02739897,\n",
       "        -0.02739897, -0.02739897, -0.02739897, -0.05556985, -2.91777073,\n",
       "        -0.05556985, -2.91777073, -3.61091791, -0.02739897, -3.61091791,\n",
       "        -0.02739897, -3.61091791, -0.02739897, -3.61091791, -0.02739897,\n",
       "        -3.61091791, -0.02739897, -3.61091791, -0.02739897, -3.61091791,\n",
       "        -0.02739897, -0.02739897, -0.02739897, -0.02739897, -0.02739897,\n",
       "        -0.02739897, -0.05556985, -3.61091791, -2.91777073, -0.05556985,\n",
       "        -2.91777073, -0.05556985, -2.91777073, -0.02739897, -0.02739897,\n",
       "        -3.61091791, -0.02739897, -3.61091791, -0.02739897, -0.02739897]])"
      ]
     },
     "execution_count": 22,
     "metadata": {},
     "output_type": "execute_result"
    }
   ],
   "source": [
    "clf_ber."
   ]
  },
  {
   "cell_type": "code",
   "execution_count": null,
   "metadata": {},
   "outputs": [],
   "source": []
  }
 ],
 "metadata": {
  "kernelspec": {
   "display_name": "Python 3",
   "language": "python",
   "name": "python3"
  },
  "language_info": {
   "codemirror_mode": {
    "name": "ipython",
    "version": 3
   },
   "file_extension": ".py",
   "mimetype": "text/x-python",
   "name": "python",
   "nbconvert_exporter": "python",
   "pygments_lexer": "ipython3",
   "version": "3.7.7"
  }
 },
 "nbformat": 4,
 "nbformat_minor": 4
}
