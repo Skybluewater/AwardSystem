{
 "cells": [
  {
   "cell_type": "markdown",
   "metadata": {},
   "source": [
    "# 对PaperRecord实现聚类"
   ]
  },
  {
   "cell_type": "markdown",
   "metadata": {},
   "source": [
    "### 环境准备"
   ]
  },
  {
   "cell_type": "markdown",
   "metadata": {},
   "source": [
    "##### 常用环境导入"
   ]
  },
  {
   "cell_type": "code",
   "execution_count": 1,
   "metadata": {},
   "outputs": [],
   "source": [
    "from sklearn.cluster import KMeans\n",
    "from sklearn.metrics import silhouette_score\n",
    "from sklearn.metrics import calinski_harabasz_score"
   ]
  },
  {
   "cell_type": "code",
   "execution_count": 2,
   "metadata": {},
   "outputs": [],
   "source": [
    "from sklearn.decomposition import PCA"
   ]
  },
  {
   "cell_type": "code",
   "execution_count": 3,
   "metadata": {},
   "outputs": [],
   "source": [
    "import pandas as pd"
   ]
  },
  {
   "cell_type": "code",
   "execution_count": 4,
   "metadata": {},
   "outputs": [],
   "source": [
    "import numpy as np"
   ]
  },
  {
   "cell_type": "code",
   "execution_count": 16,
   "metadata": {},
   "outputs": [],
   "source": [
    "import seaborn as sns"
   ]
  },
  {
   "cell_type": "code",
   "execution_count": 17,
   "metadata": {},
   "outputs": [],
   "source": [
    "from sklearn.manifold import TSNE"
   ]
  },
  {
   "cell_type": "markdown",
   "metadata": {},
   "source": [
    "##### 导入matplotlib"
   ]
  },
  {
   "cell_type": "code",
   "execution_count": 5,
   "metadata": {},
   "outputs": [],
   "source": [
    "import matplotlib.pyplot as plt\n",
    "import matplotlib\n",
    "%matplotlib inline"
   ]
  },
  {
   "cell_type": "markdown",
   "metadata": {},
   "source": [
    "##### 连接数据库"
   ]
  },
  {
   "cell_type": "code",
   "execution_count": 14,
   "metadata": {},
   "outputs": [
    {
     "name": "stdout",
     "output_type": "stream",
     "text": [
      "Open Database successfully\n"
     ]
    }
   ],
   "source": [
    "import sqlite3\n",
    "\n",
    "conn = sqlite3.connect(\"../db.sqlite3\")\n",
    "\n",
    "print(\"Open Database successfully\")"
   ]
  },
  {
   "cell_type": "code",
   "execution_count": 19,
   "metadata": {},
   "outputs": [
    {
     "data": {
      "text/plain": [
       "[('Training',),\n",
       " ('UserTemp',),\n",
       " ('account_confirmstring',),\n",
       " ('account_profile_awardhistory',),\n",
       " ('account_profile_awardhistory_User',),\n",
       " ('account_profile_competitionrecord',),\n",
       " ('account_profile_honortitle',),\n",
       " ('account_profile_paperrecord',),\n",
       " ('account_profile_patentrecord',),\n",
       " ('account_profile_publishrecord',),\n",
       " ('account_profile_researchproject',),\n",
       " ('account_user',),\n",
       " ('account_user_groups',),\n",
       " ('account_user_user_permissions',),\n",
       " ('auth_group',),\n",
       " ('auth_group_permissions',),\n",
       " ('auth_permission',),\n",
       " ('award_info_awardclassification',),\n",
       " ('award_info_awardinfo',),\n",
       " ('award_info_awardinfo_Major',),\n",
       " ('award_info_awardinfopost',),\n",
       " ('award_info_category',),\n",
       " ('award_info_post',),\n",
       " ('award_info_post_tags',),\n",
       " ('award_info_post_users_focus',),\n",
       " ('award_info_tag',),\n",
       " ('captcha_captchastore',),\n",
       " ('django_admin_log',),\n",
       " ('django_content_type',),\n",
       " ('django_migrations',),\n",
       " ('django_session',),\n",
       " ('grade_info_deptinfo',),\n",
       " ('grade_info_gradeinfo',),\n",
       " ('grade_info_lessoninfo',),\n",
       " ('grade_info_lessoninfo_AffiliatedMajor',),\n",
       " ('grade_info_majorinfo',),\n",
       " ('grade_info_relationship',),\n",
       " ('grade_info_schoolyearinfo',),\n",
       " ('sqlite_sequence',)]"
      ]
     },
     "execution_count": 19,
     "metadata": {},
     "output_type": "execute_result"
    }
   ],
   "source": [
    "cur = conn.cursor()\n",
    "table_name = cur.execute(\"select name from sqlite_master where type='table' order by name\").fetchall()\n",
    "table_name"
   ]
  },
  {
   "cell_type": "code",
   "execution_count": 21,
   "metadata": {},
   "outputs": [
    {
     "data": {
      "text/plain": [
       "[(0, 'id', 'integer', 1, None, 1),\n",
       " (1, 'publishDate', 'date', 1, None, 0),\n",
       " (2, 'name', 'varchar(256)', 1, None, 0),\n",
       " (3, 'abstract', 'text', 0, None, 0),\n",
       " (4, 'magzineName', 'varchar(256)', 0, None, 0),\n",
       " (5, 'authOrder', 'varchar(1)', 1, None, 0),\n",
       " (6, 'totalAuthor', 'integer', 1, None, 0),\n",
       " (7, 'postStatus', 'varchar(2)', 1, None, 0),\n",
       " (8, 'totalReference', 'decimal', 1, None, 0),\n",
       " (9, 'conferenceChoice', 'varchar(2)', 1, None, 0),\n",
       " (10, 'SchoolYear_id', 'integer', 1, None, 0),\n",
       " (11, 'User_id', 'integer', 1, None, 0)]"
      ]
     },
     "execution_count": 21,
     "metadata": {},
     "output_type": "execute_result"
    }
   ],
   "source": [
    "cur.execute(\"PRAGMA table_info(account_profile_paperrecord)\")\n",
    "cur.fetchall()"
   ]
  },
  {
   "cell_type": "markdown",
   "metadata": {},
   "source": [
    "### 构建CSV"
   ]
  },
  {
   "cell_type": "code",
   "execution_count": 22,
   "metadata": {},
   "outputs": [],
   "source": [
    "csv_head = [\"id\", \"User_id\", \"authOrder\", \"conferenceChoice\"]"
   ]
  },
  {
   "cell_type": "code",
   "execution_count": 45,
   "metadata": {},
   "outputs": [],
   "source": [
    "paper_record = conn.execute((\"select {} from account_profile_paperrecord\").\n",
    "                            format(\",\".join(csv_head))).fetchall()"
   ]
  },
  {
   "cell_type": "markdown",
   "metadata": {},
   "source": [
    "paper_record"
   ]
  },
  {
   "cell_type": "markdown",
   "metadata": {},
   "source": [
    "构建CSV"
   ]
  },
  {
   "cell_type": "code",
   "execution_count": 48,
   "metadata": {},
   "outputs": [],
   "source": [
    "import csv\n",
    "with open(\"paper_record.csv\", \"w\", newline=\"\") as f:\n",
    "    ff = csv.writer(f)\n",
    "    ff.writerow(csv_head)\n",
    "    ff.writerows(paper_record)"
   ]
  },
  {
   "cell_type": "markdown",
   "metadata": {},
   "source": [
    "### 读取CSV"
   ]
  },
  {
   "cell_type": "code",
   "execution_count": 98,
   "metadata": {},
   "outputs": [],
   "source": [
    "df_paper = pd.read_csv(\"paper_record.csv\", header=0, encoding=\"utf-8\")\n",
    "df_paper_regression_one_hot = df_paper.loc[:, [False, False, True, True]].copy()\n",
    "df_paper_regression_fact = df_paper_regression_one_hot.copy()"
   ]
  },
  {
   "cell_type": "markdown",
   "metadata": {},
   "source": [
    "### 确定Mapping"
   ]
  },
  {
   "cell_type": "markdown",
   "metadata": {},
   "source": [
    "##### 使用自定义mapping(factorize)"
   ]
  },
  {
   "cell_type": "code",
   "execution_count": 99,
   "metadata": {},
   "outputs": [],
   "source": [
    "conference_mapping = {\n",
    "    'ic': 1,\n",
    "    'im': 2,\n",
    "    'nc': 3,\n",
    "    'nm': 4,\n",
    "    'os': 5,\n",
    "    'tm': 6\n",
    "}\n",
    "\n",
    "auth_mapping = {\n",
    "    'f': 1,\n",
    "    'r': 2,\n",
    "    's': 3,\n",
    "    't': 4,\n",
    "}\n",
    "\n",
    "# df_paper_regression['authOrder'] = pd.factorize(df_paper_regression['authOrder'])\n",
    "# df_paper_regression['conferenceChoice'] = pd.factorize(df_paper_regression['conferenceChoice'])\n",
    "\n",
    "df_paper_regression_fact['authOrder'] = df_paper_regression_fact['authOrder'].map(auth_mapping)\n",
    "df_paper_regression_fact['conferenceChoice'] = df_paper_regression_fact['conferenceChoice'].map(conference_mapping)"
   ]
  },
  {
   "cell_type": "markdown",
   "metadata": {},
   "source": [
    "##### 使用one-hot encoding"
   ]
  },
  {
   "cell_type": "code",
   "execution_count": 100,
   "metadata": {},
   "outputs": [],
   "source": [
    "df_paper_regression_one_hot = pd.get_dummies(df_paper_regression_one_hot)"
   ]
  },
  {
   "cell_type": "markdown",
   "metadata": {},
   "source": [
    "##### TSNE/PCA可视化"
   ]
  },
  {
   "cell_type": "markdown",
   "metadata": {},
   "source": [
    "#### TSNE可视化"
   ]
  },
  {
   "cell_type": "markdown",
   "metadata": {},
   "source": [
    "one-hot 可视化"
   ]
  },
  {
   "cell_type": "code",
   "execution_count": 59,
   "metadata": {
    "scrolled": true
   },
   "outputs": [
    {
     "data": {
      "text/plain": [
       "<matplotlib.collections.PathCollection at 0x7f7fdd9bfcd0>"
      ]
     },
     "execution_count": 59,
     "metadata": {},
     "output_type": "execute_result"
    },
    {
     "data": {
      "image/png": "[encoded data removed]",
      "text/plain": [
       "<Figure size 432x288 with 1 Axes>"
      ]
     },
     "metadata": {
      "needs_background": "light"
     },
     "output_type": "display_data"
    }
   ],
   "source": [
    "projection = TSNE().fit_transform(df_paper_regression_one_hot)\n",
    "plt.scatter(*projection.T)"
   ]
  },
  {
   "cell_type": "markdown",
   "metadata": {},
   "source": [
    "factorize可视化"
   ]
  },
  {
   "cell_type": "code",
   "execution_count": 60,
   "metadata": {},
   "outputs": [
    {
     "data": {
      "text/plain": [
       "<matplotlib.collections.PathCollection at 0x7f7fdd55d650>"
      ]
     },
     "execution_count": 60,
     "metadata": {},
     "output_type": "execute_result"
    },
    {
     "data": {
      "image/png": "[encoded data removed]",
      "text/plain": [
       "<Figure size 432x288 with 1 Axes>"
      ]
     },
     "metadata": {
      "needs_background": "light"
     },
     "output_type": "display_data"
    }
   ],
   "source": [
    "projection = TSNE().fit_transform(df_paper_regression_fact)\n",
    "plt.scatter(*projection.T)"
   ]
  },
  {
   "cell_type": "markdown",
   "metadata": {},
   "source": [
    "##### PCA可视化"
   ]
  },
  {
   "cell_type": "markdown",
   "metadata": {},
   "source": [
    "one-hot可视化"
   ]
  },
  {
   "cell_type": "markdown",
   "metadata": {},
   "source": [
    "pca = PCA(n_components=2)\n",
    "projected = pca.fit_transform(df_paper_regression_one_hot)\n",
    "\n",
    "#画出每个点的前两个主成份\n",
    "plt.scatter(projected[:, 0], projected[:, 1], c=digits.target, edgecolor='none',\n",
    "            alpha=0.5, cmap=plt.cm.get_cmap('Spectral', 10))\n",
    "plt.xlabel('component 1')\n",
    "plt.ylabel('component 2')\n",
    "plt.colorbar()"
   ]
  },
  {
   "cell_type": "code",
   "execution_count": 112,
   "metadata": {},
   "outputs": [
    {
     "data": {
      "text/plain": [
       "Text(0, 0.5, 'cumulative explained variance')"
      ]
     },
     "execution_count": 112,
     "metadata": {},
     "output_type": "execute_result"
    },
    {
     "data": {
      "image/png": "[encoded data removed]",
      "text/plain": [
       "<Figure size 432x288 with 1 Axes>"
      ]
     },
     "metadata": {
      "needs_background": "light"
     },
     "output_type": "display_data"
    }
   ],
   "source": [
    "pca = PCA().fit(df_paper_regression_one_hot)\n",
    "plt.plot(np.cumsum(pca.explained_variance_ratio_))\n",
    "plt.xlabel('number of components')\n",
    "plt.ylabel('cumulative explained variance')"
   ]
  },
  {
   "cell_type": "code",
   "execution_count": 113,
   "metadata": {},
   "outputs": [
    {
     "data": {
      "text/plain": [
       "array([[-0.57391506, -0.00955066,  0.58651668, -0.00305096, -0.48456118,\n",
       "         0.10452595,  0.07865511,  0.00984015,  0.01925375,  0.27228622],\n",
       "       [ 0.42407406, -0.0928096 , -0.3034503 , -0.02781416, -0.67497186,\n",
       "         0.48491366, -0.01079262,  0.05142096, -0.0090656 ,  0.15849547],\n",
       "       [ 0.17563955, -0.03549404, -0.13011055, -0.01003496, -0.08014091,\n",
       "        -0.60411651, -0.065961  ,  0.00582122, -0.01382847,  0.75822567],\n",
       "       [ 0.12779244, -0.11714339,  0.01345168, -0.02410072, -0.27466848,\n",
       "        -0.40970116,  0.75549233,  0.22180451,  0.03104391, -0.32397112],\n",
       "       [-0.37320331,  0.76125592, -0.48225851,  0.0942059 , -0.14474996,\n",
       "        -0.03488996,  0.09788897,  0.08854945, -0.01189803,  0.00509954],\n",
       "       [-0.01138676, -0.03810337,  0.05166649, -0.00217636, -0.11186289,\n",
       "        -0.16166414, -0.45909964,  0.84320359,  0.06557781, -0.17615472],\n",
       "       [-0.23260699, -0.38086209, -0.24325984,  0.85672892, -0.0020651 ,\n",
       "         0.01534794,  0.02395248,  0.0223106 , -0.07770048,  0.01815455],\n",
       "       [-0.00928155, -0.01715765, -0.04887073,  0.07530992, -0.16616654,\n",
       "        -0.16390986, -0.17601778, -0.24905863,  0.9062263 , -0.1510735 ],\n",
       "       [ 0.03068054,  0.03068054,  0.03068054,  0.03068054,  0.407479  ,\n",
       "         0.407479  ,  0.407479  ,  0.407479  ,  0.407479  ,  0.407479  ],\n",
       "       [-0.49905782, -0.49905782, -0.49905782, -0.49905782,  0.02505055,\n",
       "         0.02505055,  0.02505055,  0.02505055,  0.02505055,  0.02505055]])"
      ]
     },
     "execution_count": 113,
     "metadata": {},
     "output_type": "execute_result"
    }
   ],
   "source": [
    "pca.components_"
   ]
  },
  {
   "cell_type": "markdown",
   "metadata": {},
   "source": [
    "fact可视化"
   ]
  },
  {
   "cell_type": "code",
   "execution_count": 62,
   "metadata": {},
   "outputs": [
    {
     "data": {
      "text/plain": [
       "Text(0, 0.5, 'cumulative explained variance')"
      ]
     },
     "execution_count": 62,
     "metadata": {},
     "output_type": "execute_result"
    },
    {
     "data": {
      "image/png": "[encoded data removed]",
      "text/plain": [
       "<Figure size 432x288 with 1 Axes>"
      ]
     },
     "metadata": {
      "needs_background": "light"
     },
     "output_type": "display_data"
    }
   ],
   "source": [
    "pca = PCA().fit(df_paper_regression_fact)\n",
    "plt.plot(np.cumsum(pca.explained_variance_ratio_))\n",
    "plt.xlabel('number of components')\n",
    "plt.ylabel('cumulative explained variance')"
   ]
  },
  {
   "cell_type": "markdown",
   "metadata": {},
   "source": []
  },
  {
   "cell_type": "markdown",
   "metadata": {},
   "source": [
    "### Kmeans"
   ]
  },
  {
   "cell_type": "markdown",
   "metadata": {},
   "source": [
    "##### 聚类结果评价"
   ]
  },
  {
   "cell_type": "code",
   "execution_count": 13,
   "metadata": {},
   "outputs": [],
   "source": [
    "# 定义between_SS / total_SS 的计算方法\n",
    "def sum_of_square_scores(original_data, predict_labels, cluster_centers, n_clusters):\n",
    "    avg = np.mean(original_data, axis=0)\n",
    "    dist = np.power(original_data - avg, 2)\n",
    "    total_ss = np.sum(dist)\n",
    "    within_squares = np.zeros((n_clusters, len(original_data[0])))\n",
    "    for i in range(0, len(original_data)):\n",
    "        cluster = predict_labels[i]\n",
    "        within_squares[cluster] += np.power(original_data[i] - cluster_centers[cluster], 2)\n",
    "    within_ss = np.sum(within_squares)\n",
    "    return (total_ss - within_ss) / total_ss"
   ]
  },
  {
   "cell_type": "markdown",
   "metadata": {},
   "source": [
    "##### one-hot 输出"
   ]
  },
  {
   "cell_type": "code",
   "execution_count": 23,
   "metadata": {},
   "outputs": [],
   "source": [
    "kmeans_one_hot = KMeans(n_clusters=5, random_state=10).fit(df_paper_regression_one_hot)"
   ]
  },
  {
   "cell_type": "code",
   "execution_count": 24,
   "metadata": {},
   "outputs": [
    {
     "data": {
      "text/plain": [
       "array([2, 1, 2, 2, 2, 1, 1, 1, 1, 2, 2, 2, 2, 2, 2, 3, 1, 2, 0, 4, 0, 0,\n",
       "       1, 1, 2, 0, 3, 2, 2, 2, 2, 0, 0, 1, 2, 3, 4, 2, 2, 2, 2, 2, 2, 1,\n",
       "       2, 3, 3, 3, 4, 1, 3, 3, 0, 2, 4, 2, 4, 1, 4, 2, 2, 1, 2, 2, 1, 2,\n",
       "       3, 2, 0, 4, 1, 3, 1, 0, 0, 0, 2, 2, 2, 0, 3, 2, 4, 2, 2, 2, 2, 2],\n",
       "      dtype=int32)"
      ]
     },
     "execution_count": 24,
     "metadata": {},
     "output_type": "execute_result"
    }
   ],
   "source": [
    "kmeans_one_hot.labels_"
   ]
  },
  {
   "cell_type": "markdown",
   "metadata": {},
   "source": [
    "##### factorize输出"
   ]
  },
  {
   "cell_type": "code",
   "execution_count": 25,
   "metadata": {},
   "outputs": [
    {
     "data": {
      "text/plain": [
       "array([1, 4, 1, 1, 2, 1, 1, 4, 0, 1, 1, 1, 1, 1, 1, 3, 1, 1, 0, 2, 0, 0,\n",
       "       4, 4, 1, 3, 3, 1, 1, 1, 1, 0, 2, 0, 1, 3, 2, 1, 1, 1, 1, 1, 1, 1,\n",
       "       1, 3, 3, 3, 2, 1, 3, 3, 0, 1, 2, 1, 2, 1, 2, 1, 1, 1, 1, 1, 1, 1,\n",
       "       3, 1, 2, 2, 4, 3, 0, 2, 2, 2, 1, 1, 1, 2, 3, 1, 2, 1, 1, 1, 1, 1],\n",
       "      dtype=int32)"
      ]
     },
     "execution_count": 25,
     "metadata": {},
     "output_type": "execute_result"
    }
   ],
   "source": [
    "kmeans_factorize = KMeans(n_clusters=5, random_state=10).fit(df_paper_regression_fact)\n",
    "kmeans_factorize.labels_"
   ]
  },
  {
   "cell_type": "markdown",
   "metadata": {},
   "source": [
    "可以看到one-hot的输出结果和factorize有所差异，归根结底是距离度量的问题"
   ]
  },
  {
   "cell_type": "code",
   "execution_count": 26,
   "metadata": {
    "scrolled": true
   },
   "outputs": [
    {
     "data": {
      "text/plain": [
       "array([[2.25      , 3.375     ],\n",
       "       [1.0625    , 1.16666667],\n",
       "       [3.06666667, 1.4       ],\n",
       "       [3.        , 5.91666667],\n",
       "       [1.        , 6.        ]])"
      ]
     },
     "execution_count": 26,
     "metadata": {},
     "output_type": "execute_result"
    }
   ],
   "source": [
    "kmeans_factorize.cluster_centers_"
   ]
  },
  {
   "cell_type": "markdown",
   "metadata": {},
   "source": [
    "#### Kmeans 多簇比较"
   ]
  },
  {
   "cell_type": "markdown",
   "metadata": {},
   "source": [
    "##### one-hot"
   ]
  },
  {
   "cell_type": "code",
   "execution_count": 64,
   "metadata": {},
   "outputs": [],
   "source": [
    "scores_one_hot_sil = []\n",
    "scores_one_hot_cal = []\n",
    "\n",
    "for i in range(2, 10):\n",
    "    km = KMeans(n_clusters=i)\n",
    "    km.fit(df_paper_regression_one_hot)\n",
    "    scores_one_hot_sil.append(silhouette_score(df_paper_regression_one_hot, km.labels_))\n",
    "    scores_one_hot_cal.append(calinski_harabasz_score(df_paper_regression_one_hot, km.labels_))\n"
   ]
  },
  {
   "cell_type": "code",
   "execution_count": 65,
   "metadata": {},
   "outputs": [
    {
     "data": {
      "image/png": "[encoded data removed]",
      "text/plain": [
       "<Figure size 432x288 with 1 Axes>"
      ]
     },
     "metadata": {
      "needs_background": "light"
     },
     "output_type": "display_data"
    }
   ],
   "source": [
    "plt.plot(range(2,10), scores_one_hot_sil, marker='o')\n",
    "plt.xlabel('Number of clusters')\n",
    "plt.ylabel('silhouette_score')\n",
    "plt.savefig(\"Paper_kmeans_sc_one_h.png\")\n",
    "plt.show()"
   ]
  },
  {
   "cell_type": "code",
   "execution_count": 66,
   "metadata": {},
   "outputs": [
    {
     "data": {
      "image/png": "[encoded data removed]",
      "text/plain": [
       "<Figure size 432x288 with 1 Axes>"
      ]
     },
     "metadata": {
      "needs_background": "light"
     },
     "output_type": "display_data"
    }
   ],
   "source": [
    "plt.plot(range(2,10), scores_one_hot_cal, marker='o')\n",
    "plt.xlabel('Number of clusters')\n",
    "plt.ylabel('calinski_harabasz_score')\n",
    "plt.savefig(\"Paper_kmeans_cc_one_h.png\")\n",
    "plt.show()"
   ]
  },
  {
   "cell_type": "markdown",
   "metadata": {},
   "source": [
    "##### factorize"
   ]
  },
  {
   "cell_type": "code",
   "execution_count": 67,
   "metadata": {},
   "outputs": [],
   "source": [
    "scores_one_hot_sil = []\n",
    "scores_one_hot_cal = []\n",
    "\n",
    "for i in range(2, 10):\n",
    "    km = KMeans(n_clusters=i)\n",
    "    km.fit(df_paper_regression_fact)\n",
    "    scores_one_hot_sil.append(silhouette_score(df_paper_regression_fact, km.labels_))\n",
    "    scores_one_hot_cal.append(calinski_harabasz_score(df_paper_regression_fact, km.labels_))\n"
   ]
  },
  {
   "cell_type": "code",
   "execution_count": 69,
   "metadata": {},
   "outputs": [
    {
     "data": {
      "image/png": "[encoded data removed]",
      "text/plain": [
       "<Figure size 432x288 with 1 Axes>"
      ]
     },
     "metadata": {
      "needs_background": "light"
     },
     "output_type": "display_data"
    }
   ],
   "source": [
    "plt.plot(range(2,10), scores_one_hot_sil, marker='o')\n",
    "plt.xlabel('Number of clusters')\n",
    "plt.ylabel('silhouette_score')\n",
    "plt.savefig(\"Paper_kmeans_sc_fac.png\")\n",
    "plt.show()"
   ]
  },
  {
   "cell_type": "code",
   "execution_count": 70,
   "metadata": {},
   "outputs": [
    {
     "data": {
      "image/png": "[encoded data removed]",
      "text/plain": [
       "<Figure size 432x288 with 1 Axes>"
      ]
     },
     "metadata": {
      "needs_background": "light"
     },
     "output_type": "display_data"
    }
   ],
   "source": [
    "plt.plot(range(2,10), scores_one_hot_cal, marker='o')\n",
    "plt.xlabel('Number of clusters')\n",
    "plt.ylabel('calinski_harabasz_score')\n",
    "plt.savefig(\"Paper_kmeans_cc_fac.png\")\n",
    "plt.show()"
   ]
  },
  {
   "cell_type": "markdown",
   "metadata": {},
   "source": [
    "##### 保存聚类结果输出CSV"
   ]
  },
  {
   "cell_type": "markdown",
   "metadata": {},
   "source": [
    "##### Factorize结果"
   ]
  },
  {
   "cell_type": "code",
   "execution_count": 54,
   "metadata": {},
   "outputs": [
    {
     "name": "stdout",
     "output_type": "stream",
     "text": [
      "coeff:0.753975106803399\n",
      "calinski score:324.93672755326276\n"
     ]
    }
   ],
   "source": [
    "sil_coeff = silhouette_score(df_paper_regression_fact, kmeans_factorize.labels_)\n",
    "# bss = sum_of_square_scores(df_paper_regression_fact, kmeans_factorize.labels_, kmeans_factorize.cluster_centers_, kmeans_factorize.n_clusters)\n",
    "print(\"coeff:\" + str(sil_coeff))\n",
    "cal_score = calinski_harabasz_score(df_paper_regression_fact, kmeans_factorize.labels_)\n",
    "print(\"calinski score:\" + str(cal_score))\n",
    "# print(\"between_ss / total_ss:\" + str(bss))"
   ]
  },
  {
   "cell_type": "code",
   "execution_count": 27,
   "metadata": {},
   "outputs": [],
   "source": [
    "df_paper_regression_fact['labels'] = kmeans_factorize.labels_"
   ]
  },
  {
   "cell_type": "code",
   "execution_count": 28,
   "metadata": {
    "scrolled": true
   },
   "outputs": [
    {
     "data": {
      "text/html": [
       "<div>\n",
       "<style scoped>\n",
       "    .dataframe tbody tr th:only-of-type {\n",
       "        vertical-align: middle;\n",
       "    }\n",
       "\n",
       "    .dataframe tbody tr th {\n",
       "        vertical-align: top;\n",
       "    }\n",
       "\n",
       "    .dataframe thead th {\n",
       "        text-align: right;\n",
       "    }\n",
       "</style>\n",
       "<table border=\"1\" class=\"dataframe\">\n",
       "  <thead>\n",
       "    <tr style=\"text-align: right;\">\n",
       "      <th></th>\n",
       "      <th>authOrder</th>\n",
       "      <th>conferenceChoice</th>\n",
       "      <th>labels</th>\n",
       "    </tr>\n",
       "  </thead>\n",
       "  <tbody>\n",
       "    <tr>\n",
       "      <th>0</th>\n",
       "      <td>1</td>\n",
       "      <td>1</td>\n",
       "      <td>1</td>\n",
       "    </tr>\n",
       "    <tr>\n",
       "      <th>1</th>\n",
       "      <td>1</td>\n",
       "      <td>6</td>\n",
       "      <td>4</td>\n",
       "    </tr>\n",
       "    <tr>\n",
       "      <th>2</th>\n",
       "      <td>1</td>\n",
       "      <td>1</td>\n",
       "      <td>1</td>\n",
       "    </tr>\n",
       "    <tr>\n",
       "      <th>3</th>\n",
       "      <td>1</td>\n",
       "      <td>1</td>\n",
       "      <td>1</td>\n",
       "    </tr>\n",
       "    <tr>\n",
       "      <th>4</th>\n",
       "      <td>4</td>\n",
       "      <td>1</td>\n",
       "      <td>2</td>\n",
       "    </tr>\n",
       "    <tr>\n",
       "      <th>...</th>\n",
       "      <td>...</td>\n",
       "      <td>...</td>\n",
       "      <td>...</td>\n",
       "    </tr>\n",
       "    <tr>\n",
       "      <th>83</th>\n",
       "      <td>1</td>\n",
       "      <td>1</td>\n",
       "      <td>1</td>\n",
       "    </tr>\n",
       "    <tr>\n",
       "      <th>84</th>\n",
       "      <td>1</td>\n",
       "      <td>1</td>\n",
       "      <td>1</td>\n",
       "    </tr>\n",
       "    <tr>\n",
       "      <th>85</th>\n",
       "      <td>2</td>\n",
       "      <td>1</td>\n",
       "      <td>1</td>\n",
       "    </tr>\n",
       "    <tr>\n",
       "      <th>86</th>\n",
       "      <td>1</td>\n",
       "      <td>1</td>\n",
       "      <td>1</td>\n",
       "    </tr>\n",
       "    <tr>\n",
       "      <th>87</th>\n",
       "      <td>1</td>\n",
       "      <td>1</td>\n",
       "      <td>1</td>\n",
       "    </tr>\n",
       "  </tbody>\n",
       "</table>\n",
       "<p>88 rows × 3 columns</p>\n",
       "</div>"
      ],
      "text/plain": [
       "    authOrder  conferenceChoice  labels\n",
       "0           1                 1       1\n",
       "1           1                 6       4\n",
       "2           1                 1       1\n",
       "3           1                 1       1\n",
       "4           4                 1       2\n",
       "..        ...               ...     ...\n",
       "83          1                 1       1\n",
       "84          1                 1       1\n",
       "85          2                 1       1\n",
       "86          1                 1       1\n",
       "87          1                 1       1\n",
       "\n",
       "[88 rows x 3 columns]"
      ]
     },
     "execution_count": 28,
     "metadata": {},
     "output_type": "execute_result"
    }
   ],
   "source": [
    "df_paper_regression_fact"
   ]
  },
  {
   "cell_type": "code",
   "execution_count": 29,
   "metadata": {
    "scrolled": true
   },
   "outputs": [
    {
     "data": {
      "text/plain": [
       "<matplotlib.axes._subplots.AxesSubplot at 0x7f7fdd360850>"
      ]
     },
     "execution_count": 29,
     "metadata": {},
     "output_type": "execute_result"
    },
    {
     "data": {
      "image/png": "[encoded data removed]",
      "text/plain": [
       "<Figure size 432x288 with 1 Axes>"
      ]
     },
     "metadata": {
      "needs_background": "light"
     },
     "output_type": "display_data"
    }
   ],
   "source": [
    "df_paper_regression_fact.groupby('labels')['labels'].count().plot(kind=\"bar\")"
   ]
  },
  {
   "cell_type": "code",
   "execution_count": 32,
   "metadata": {},
   "outputs": [],
   "source": [
    "df_paper_regression_fact.to_csv('paper_regression_fact.csv')"
   ]
  },
  {
   "cell_type": "code",
   "execution_count": 34,
   "metadata": {},
   "outputs": [
    {
     "data": {
      "image/png": "[encoded data removed]",
      "text/plain": [
       "<Figure size 432x288 with 2 Axes>"
      ]
     },
     "metadata": {
      "needs_background": "light"
     },
     "output_type": "display_data"
    }
   ],
   "source": [
    "pca = PCA(n_components=2)\n",
    "projected = pca.fit_transform(df_paper_regression_fact)\n",
    "plt.scatter(projected[:, 0], projected[:, 1], c=df_paper_regression_fact['labels'], edgecolor='none',\n",
    "            alpha=0.5, cmap=plt.cm.get_cmap('Spectral', 10))\n",
    "plt.xlabel('component 1')\n",
    "plt.ylabel('component 2')\n",
    "plt.colorbar()\n",
    "plt.savefig(\"PCA_new_kmeans_factorize.png\")"
   ]
  },
  {
   "cell_type": "markdown",
   "metadata": {},
   "source": [
    "##### one-hot结果"
   ]
  },
  {
   "cell_type": "code",
   "execution_count": 53,
   "metadata": {},
   "outputs": [
    {
     "name": "stdout",
     "output_type": "stream",
     "text": [
      "coeff:0.7016505779312342\n",
      "calinski score:62.469082369381255\n"
     ]
    }
   ],
   "source": [
    "sil_coeff = silhouette_score(df_paper_regression_one_hot, kmeans_one_hot.labels_)\n",
    "# bss = sum_of_square_scores(df_paper_regression_fact, kmeans_factorize.labels_, kmeans_factorize.cluster_centers_, kmeans_factorize.n_clusters)\n",
    "print(\"coeff:\" + str(sil_coeff))\n",
    "cal_score = calinski_harabasz_score(df_paper_regression_one_hot, kmeans_one_hot.labels_)\n",
    "print(\"calinski score:\" + str(cal_score))\n",
    "# print(\"between_ss / total_ss:\" + str(bss))"
   ]
  },
  {
   "cell_type": "code",
   "execution_count": 35,
   "metadata": {},
   "outputs": [],
   "source": [
    "df_paper_regression_one_hot['labels'] = kmeans_one_hot.labels_"
   ]
  },
  {
   "cell_type": "code",
   "execution_count": 36,
   "metadata": {},
   "outputs": [
    {
     "data": {
      "text/html": [
       "<div>\n",
       "<style scoped>\n",
       "    .dataframe tbody tr th:only-of-type {\n",
       "        vertical-align: middle;\n",
       "    }\n",
       "\n",
       "    .dataframe tbody tr th {\n",
       "        vertical-align: top;\n",
       "    }\n",
       "\n",
       "    .dataframe thead th {\n",
       "        text-align: right;\n",
       "    }\n",
       "</style>\n",
       "<table border=\"1\" class=\"dataframe\">\n",
       "  <thead>\n",
       "    <tr style=\"text-align: right;\">\n",
       "      <th></th>\n",
       "      <th>authOrder_f</th>\n",
       "      <th>authOrder_r</th>\n",
       "      <th>authOrder_s</th>\n",
       "      <th>authOrder_t</th>\n",
       "      <th>conferenceChoice_ic</th>\n",
       "      <th>conferenceChoice_im</th>\n",
       "      <th>conferenceChoice_nc</th>\n",
       "      <th>conferenceChoice_nm</th>\n",
       "      <th>conferenceChoice_os</th>\n",
       "      <th>conferenceChoice_tm</th>\n",
       "      <th>labels</th>\n",
       "    </tr>\n",
       "  </thead>\n",
       "  <tbody>\n",
       "    <tr>\n",
       "      <th>0</th>\n",
       "      <td>1</td>\n",
       "      <td>0</td>\n",
       "      <td>0</td>\n",
       "      <td>0</td>\n",
       "      <td>1</td>\n",
       "      <td>0</td>\n",
       "      <td>0</td>\n",
       "      <td>0</td>\n",
       "      <td>0</td>\n",
       "      <td>0</td>\n",
       "      <td>2</td>\n",
       "    </tr>\n",
       "    <tr>\n",
       "      <th>1</th>\n",
       "      <td>1</td>\n",
       "      <td>0</td>\n",
       "      <td>0</td>\n",
       "      <td>0</td>\n",
       "      <td>0</td>\n",
       "      <td>0</td>\n",
       "      <td>0</td>\n",
       "      <td>0</td>\n",
       "      <td>0</td>\n",
       "      <td>1</td>\n",
       "      <td>1</td>\n",
       "    </tr>\n",
       "    <tr>\n",
       "      <th>2</th>\n",
       "      <td>1</td>\n",
       "      <td>0</td>\n",
       "      <td>0</td>\n",
       "      <td>0</td>\n",
       "      <td>1</td>\n",
       "      <td>0</td>\n",
       "      <td>0</td>\n",
       "      <td>0</td>\n",
       "      <td>0</td>\n",
       "      <td>0</td>\n",
       "      <td>2</td>\n",
       "    </tr>\n",
       "    <tr>\n",
       "      <th>3</th>\n",
       "      <td>1</td>\n",
       "      <td>0</td>\n",
       "      <td>0</td>\n",
       "      <td>0</td>\n",
       "      <td>1</td>\n",
       "      <td>0</td>\n",
       "      <td>0</td>\n",
       "      <td>0</td>\n",
       "      <td>0</td>\n",
       "      <td>0</td>\n",
       "      <td>2</td>\n",
       "    </tr>\n",
       "    <tr>\n",
       "      <th>4</th>\n",
       "      <td>0</td>\n",
       "      <td>0</td>\n",
       "      <td>0</td>\n",
       "      <td>1</td>\n",
       "      <td>1</td>\n",
       "      <td>0</td>\n",
       "      <td>0</td>\n",
       "      <td>0</td>\n",
       "      <td>0</td>\n",
       "      <td>0</td>\n",
       "      <td>2</td>\n",
       "    </tr>\n",
       "    <tr>\n",
       "      <th>...</th>\n",
       "      <td>...</td>\n",
       "      <td>...</td>\n",
       "      <td>...</td>\n",
       "      <td>...</td>\n",
       "      <td>...</td>\n",
       "      <td>...</td>\n",
       "      <td>...</td>\n",
       "      <td>...</td>\n",
       "      <td>...</td>\n",
       "      <td>...</td>\n",
       "      <td>...</td>\n",
       "    </tr>\n",
       "    <tr>\n",
       "      <th>83</th>\n",
       "      <td>1</td>\n",
       "      <td>0</td>\n",
       "      <td>0</td>\n",
       "      <td>0</td>\n",
       "      <td>1</td>\n",
       "      <td>0</td>\n",
       "      <td>0</td>\n",
       "      <td>0</td>\n",
       "      <td>0</td>\n",
       "      <td>0</td>\n",
       "      <td>2</td>\n",
       "    </tr>\n",
       "    <tr>\n",
       "      <th>84</th>\n",
       "      <td>1</td>\n",
       "      <td>0</td>\n",
       "      <td>0</td>\n",
       "      <td>0</td>\n",
       "      <td>1</td>\n",
       "      <td>0</td>\n",
       "      <td>0</td>\n",
       "      <td>0</td>\n",
       "      <td>0</td>\n",
       "      <td>0</td>\n",
       "      <td>2</td>\n",
       "    </tr>\n",
       "    <tr>\n",
       "      <th>85</th>\n",
       "      <td>0</td>\n",
       "      <td>1</td>\n",
       "      <td>0</td>\n",
       "      <td>0</td>\n",
       "      <td>1</td>\n",
       "      <td>0</td>\n",
       "      <td>0</td>\n",
       "      <td>0</td>\n",
       "      <td>0</td>\n",
       "      <td>0</td>\n",
       "      <td>2</td>\n",
       "    </tr>\n",
       "    <tr>\n",
       "      <th>86</th>\n",
       "      <td>1</td>\n",
       "      <td>0</td>\n",
       "      <td>0</td>\n",
       "      <td>0</td>\n",
       "      <td>1</td>\n",
       "      <td>0</td>\n",
       "      <td>0</td>\n",
       "      <td>0</td>\n",
       "      <td>0</td>\n",
       "      <td>0</td>\n",
       "      <td>2</td>\n",
       "    </tr>\n",
       "    <tr>\n",
       "      <th>87</th>\n",
       "      <td>1</td>\n",
       "      <td>0</td>\n",
       "      <td>0</td>\n",
       "      <td>0</td>\n",
       "      <td>1</td>\n",
       "      <td>0</td>\n",
       "      <td>0</td>\n",
       "      <td>0</td>\n",
       "      <td>0</td>\n",
       "      <td>0</td>\n",
       "      <td>2</td>\n",
       "    </tr>\n",
       "  </tbody>\n",
       "</table>\n",
       "<p>88 rows × 11 columns</p>\n",
       "</div>"
      ],
      "text/plain": [
       "    authOrder_f  authOrder_r  authOrder_s  authOrder_t  conferenceChoice_ic  \\\n",
       "0             1            0            0            0                    1   \n",
       "1             1            0            0            0                    0   \n",
       "2             1            0            0            0                    1   \n",
       "3             1            0            0            0                    1   \n",
       "4             0            0            0            1                    1   \n",
       "..          ...          ...          ...          ...                  ...   \n",
       "83            1            0            0            0                    1   \n",
       "84            1            0            0            0                    1   \n",
       "85            0            1            0            0                    1   \n",
       "86            1            0            0            0                    1   \n",
       "87            1            0            0            0                    1   \n",
       "\n",
       "    conferenceChoice_im  conferenceChoice_nc  conferenceChoice_nm  \\\n",
       "0                     0                    0                    0   \n",
       "1                     0                    0                    0   \n",
       "2                     0                    0                    0   \n",
       "3                     0                    0                    0   \n",
       "4                     0                    0                    0   \n",
       "..                  ...                  ...                  ...   \n",
       "83                    0                    0                    0   \n",
       "84                    0                    0                    0   \n",
       "85                    0                    0                    0   \n",
       "86                    0                    0                    0   \n",
       "87                    0                    0                    0   \n",
       "\n",
       "    conferenceChoice_os  conferenceChoice_tm  labels  \n",
       "0                     0                    0       2  \n",
       "1                     0                    1       1  \n",
       "2                     0                    0       2  \n",
       "3                     0                    0       2  \n",
       "4                     0                    0       2  \n",
       "..                  ...                  ...     ...  \n",
       "83                    0                    0       2  \n",
       "84                    0                    0       2  \n",
       "85                    0                    0       2  \n",
       "86                    0                    0       2  \n",
       "87                    0                    0       2  \n",
       "\n",
       "[88 rows x 11 columns]"
      ]
     },
     "execution_count": 36,
     "metadata": {},
     "output_type": "execute_result"
    }
   ],
   "source": [
    "df_paper_regression_one_hot"
   ]
  },
  {
   "cell_type": "code",
   "execution_count": 37,
   "metadata": {},
   "outputs": [
    {
     "data": {
      "text/plain": [
       "<matplotlib.axes._subplots.AxesSubplot at 0x7fbf0b10f9d0>"
      ]
     },
     "execution_count": 37,
     "metadata": {},
     "output_type": "execute_result"
    },
    {
     "data": {
      "image/png": "[encoded data removed]",
      "text/plain": [
       "<Figure size 432x288 with 1 Axes>"
      ]
     },
     "metadata": {
      "needs_background": "light"
     },
     "output_type": "display_data"
    }
   ],
   "source": [
    "%matplotlib inline\n",
    "df_paper_regression_one_hot.groupby('labels')['labels'].count().plot(kind='bar')"
   ]
  },
  {
   "cell_type": "code",
   "execution_count": 38,
   "metadata": {},
   "outputs": [],
   "source": [
    "df_paper_regression_one_hot.to_csv(\"paper_regression_one_hot.csv\")"
   ]
  },
  {
   "cell_type": "code",
   "execution_count": 33,
   "metadata": {},
   "outputs": [
    {
     "data": {
      "image/png": "[encoded data removed]",
      "text/plain": [
       "<Figure size 432x288 with 2 Axes>"
      ]
     },
     "metadata": {
      "needs_background": "light"
     },
     "output_type": "display_data"
    }
   ],
   "source": [
    "pca = PCA(n_components=2)\n",
    "projected = pca.fit_transform(df_paper_regression_one_hot)\n",
    "plt.scatter(projected[:, 0], projected[:, 1], c=df_paper_regression_fact['labels'], edgecolor='none',\n",
    "            alpha=0.5, cmap=plt.cm.get_cmap('Spectral', 10))\n",
    "plt.xlabel('component 1')\n",
    "plt.ylabel('component 2')\n",
    "plt.colorbar()\n",
    "plt.savefig(\"PCA_new_kmeans_one_hot.png\")"
   ]
  },
  {
   "cell_type": "markdown",
   "metadata": {},
   "source": [
    "从上述明显看出factorize后聚类效果更好"
   ]
  },
  {
   "cell_type": "markdown",
   "metadata": {},
   "source": [
    "接下来的可以尝试多种不同的聚类簇数"
   ]
  },
  {
   "cell_type": "markdown",
   "metadata": {},
   "source": [
    "### HDBScan"
   ]
  },
  {
   "cell_type": "markdown",
   "metadata": {},
   "source": [
    "##### one-hot encoding"
   ]
  },
  {
   "cell_type": "code",
   "execution_count": 82,
   "metadata": {
    "scrolled": true
   },
   "outputs": [],
   "source": [
    "import hdbscan"
   ]
  },
  {
   "cell_type": "code",
   "execution_count": 83,
   "metadata": {
    "scrolled": true
   },
   "outputs": [
    {
     "data": {
      "text/plain": [
       "array([ 4, -1,  4,  4, -1,  5,  5, -1, -1,  4,  4,  4,  4,  4,  4,  2,  5,\n",
       "        4,  0,  3,  0,  0, -1, -1,  4,  0,  2,  4,  4,  4,  4,  0,  1, -1,\n",
       "        4,  2,  3,  4,  4,  4,  4,  4,  4,  5,  4,  2,  2,  2,  3,  5,  2,\n",
       "        2,  0,  4,  3,  4,  3,  5,  3,  4, -1,  5,  4, -1,  5,  4,  2,  4,\n",
       "        1,  3, -1,  2, -1,  1,  1,  1,  4,  4,  4,  1,  2,  4,  3,  4,  4,\n",
       "       -1,  4,  4])"
      ]
     },
     "execution_count": 83,
     "metadata": {},
     "output_type": "execute_result"
    }
   ],
   "source": [
    "clusterer_one_hot = hdbscan.HDBSCAN(gen_min_span_tree=True, prediction_data=True)\n",
    "clusterer_one_hot.fit(df_paper_regression_one_hot)\n",
    "clusterer_one_hot.labels_"
   ]
  },
  {
   "cell_type": "markdown",
   "metadata": {},
   "source": [
    "不知道下面的为什么有问题,而且很多聚类结果Prob为0或1"
   ]
  },
  {
   "cell_type": "markdown",
   "metadata": {
    "scrolled": true
   },
   "source": [
    "clusterer_one_hot.minimum_spanning_tree_.plot(edge_cmap='viridis',\n",
    "                                      edge_alpha=0.6,\n",
    "                                      node_size=80,\n",
    "                                      edge_linewidth=2)"
   ]
  },
  {
   "cell_type": "code",
   "execution_count": 84,
   "metadata": {
    "scrolled": true
   },
   "outputs": [
    {
     "data": {
      "text/plain": [
       "array([1., 0., 1., 1., 0., 1., 1., 0., 0., 1., 1., 1., 1., 1., 1., 1., 1.,\n",
       "       1., 1., 1., 1., 1., 0., 0., 1., 1., 1., 1., 1., 1., 1., 1., 1., 0.,\n",
       "       1., 1., 1., 1., 1., 1., 1., 1., 1., 1., 1., 1., 1., 1., 1., 1., 1.,\n",
       "       1., 1., 1., 1., 1., 1., 1., 1., 1., 0., 1., 1., 0., 1., 1., 1., 1.,\n",
       "       1., 1., 0., 1., 0., 1., 1., 1., 1., 1., 1., 1., 1., 1., 1., 1., 1.,\n",
       "       0., 1., 1.])"
      ]
     },
     "execution_count": 84,
     "metadata": {},
     "output_type": "execute_result"
    }
   ],
   "source": [
    "clusterer_one_hot.probabilities_"
   ]
  },
  {
   "cell_type": "markdown",
   "metadata": {},
   "source": [
    "构建集群层次结构"
   ]
  },
  {
   "cell_type": "code",
   "execution_count": 85,
   "metadata": {
    "scrolled": true
   },
   "outputs": [
    {
     "data": {
      "text/plain": [
       "<matplotlib.axes._subplots.AxesSubplot at 0x7f7fde4ed390>"
      ]
     },
     "execution_count": 85,
     "metadata": {},
     "output_type": "execute_result"
    },
    {
     "data": {
      "image/png": "[encoded data removed]",
      "text/plain": [
       "<Figure size 432x288 with 2 Axes>"
      ]
     },
     "metadata": {
      "needs_background": "light"
     },
     "output_type": "display_data"
    }
   ],
   "source": [
    "clusterer_one_hot.single_linkage_tree_.plot(cmap='viridis', colorbar=True)"
   ]
  },
  {
   "cell_type": "markdown",
   "metadata": {},
   "source": [
    "压缩聚类树"
   ]
  },
  {
   "cell_type": "code",
   "execution_count": 89,
   "metadata": {},
   "outputs": [
    {
     "data": {
      "text/plain": [
       "<matplotlib.axes._subplots.AxesSubplot at 0x7f7fdfc0b790>"
      ]
     },
     "execution_count": 89,
     "metadata": {},
     "output_type": "execute_result"
    },
    {
     "data": {
      "image/png": "[encoded data removed]",
      "text/plain": [
       "<Figure size 432x288 with 2 Axes>"
      ]
     },
     "metadata": {
      "needs_background": "light"
     },
     "output_type": "display_data"
    }
   ],
   "source": [
    "clusterer_one_hot.condensed_tree_.plot()"
   ]
  },
  {
   "cell_type": "markdown",
   "metadata": {},
   "source": [
    "提取簇"
   ]
  },
  {
   "cell_type": "code",
   "execution_count": 90,
   "metadata": {},
   "outputs": [
    {
     "name": "stderr",
     "output_type": "stream",
     "text": [
      "/Users/cuichengyuan/anaconda3/lib/python3.7/site-packages/hdbscan/plots.py:383: UserWarning: Infinite lambda values encountered in chosen clusters. This might be due to duplicates in the data.\n",
      "  warn('Infinite lambda values encountered in chosen clusters.'\n"
     ]
    },
    {
     "data": {
      "text/plain": [
       "<matplotlib.axes._subplots.AxesSubplot at 0x7f7fdfe8d650>"
      ]
     },
     "execution_count": 90,
     "metadata": {},
     "output_type": "execute_result"
    },
    {
     "data": {
      "image/png": "[encoded data removed]",
      "text/plain": [
       "<Figure size 432x288 with 2 Axes>"
      ]
     },
     "metadata": {
      "needs_background": "light"
     },
     "output_type": "display_data"
    }
   ],
   "source": [
    "clusterer_one_hot.condensed_tree_.plot(select_clusters=True, selection_palette=sns.color_palette())"
   ]
  },
  {
   "cell_type": "markdown",
   "metadata": {},
   "source": [
    "##### factorize"
   ]
  },
  {
   "cell_type": "code",
   "execution_count": 86,
   "metadata": {},
   "outputs": [
    {
     "data": {
      "text/plain": [
       "array([ 2,  0,  2,  2,  4,  3,  3,  0, -1,  2,  2,  2,  2,  2,  2,  1,  3,\n",
       "        2, -1,  4, -1, -1,  0,  0,  2, -1,  1,  2,  2,  2,  2, -1,  5,  0,\n",
       "        2,  1,  4,  2,  2,  2,  2,  2,  2,  3,  2,  1,  1,  1,  4,  3,  1,\n",
       "        1, -1,  2,  4,  2,  4,  3,  4,  2, -1,  3,  2, -1,  3,  2,  1,  2,\n",
       "        5,  4,  0,  1,  0,  5,  5,  5,  2,  2,  2,  5,  1,  2,  4,  2,  2,\n",
       "       -1,  2,  2])"
      ]
     },
     "execution_count": 86,
     "metadata": {},
     "output_type": "execute_result"
    }
   ],
   "source": [
    "clusterer_fact = hdbscan.HDBSCAN(gen_min_span_tree=True, prediction_data=True)\n",
    "clusterer_fact.fit(df_paper_regression_fact)\n",
    "clusterer_fact.labels_"
   ]
  },
  {
   "cell_type": "code",
   "execution_count": 87,
   "metadata": {
    "scrolled": true
   },
   "outputs": [
    {
     "data": {
      "text/plain": [
       "array([1., 1., 1., 1., 0., 1., 1., 1., 0., 1., 1., 1., 1., 1., 1., 1., 1.,\n",
       "       1., 0., 1., 0., 0., 1., 1., 1., 0., 1., 1., 1., 1., 1., 0., 1., 1.,\n",
       "       1., 1., 1., 1., 1., 1., 1., 1., 1., 1., 1., 1., 1., 1., 1., 1., 1.,\n",
       "       1., 0., 1., 1., 1., 1., 1., 1., 1., 0., 1., 1., 0., 1., 1., 1., 1.,\n",
       "       1., 1., 1., 1., 1., 1., 1., 1., 1., 1., 1., 1., 1., 1., 1., 1., 1.,\n",
       "       0., 1., 1.])"
      ]
     },
     "execution_count": 87,
     "metadata": {},
     "output_type": "execute_result"
    }
   ],
   "source": [
    "clusterer_fact.probabilities_"
   ]
  },
  {
   "cell_type": "markdown",
   "metadata": {},
   "source": [
    "构建集群层次结构"
   ]
  },
  {
   "cell_type": "code",
   "execution_count": 88,
   "metadata": {
    "scrolled": true
   },
   "outputs": [
    {
     "data": {
      "text/plain": [
       "<matplotlib.axes._subplots.AxesSubplot at 0x7f7fdf7a0dd0>"
      ]
     },
     "execution_count": 88,
     "metadata": {},
     "output_type": "execute_result"
    },
    {
     "data": {
      "image/png": "[encoded data removed]",
      "text/plain": [
       "<Figure size 432x288 with 2 Axes>"
      ]
     },
     "metadata": {
      "needs_background": "light"
     },
     "output_type": "display_data"
    }
   ],
   "source": [
    "clusterer_fact.single_linkage_tree_.plot(cmap='viridis', colorbar=True)"
   ]
  },
  {
   "cell_type": "markdown",
   "metadata": {},
   "source": [
    "压缩聚类树"
   ]
  },
  {
   "cell_type": "code",
   "execution_count": 91,
   "metadata": {},
   "outputs": [
    {
     "data": {
      "text/plain": [
       "<matplotlib.axes._subplots.AxesSubplot at 0x7f7fdfe08850>"
      ]
     },
     "execution_count": 91,
     "metadata": {},
     "output_type": "execute_result"
    },
    {
     "data": {
      "image/png": "[encoded data removed]",
      "text/plain": [
       "<Figure size 432x288 with 2 Axes>"
      ]
     },
     "metadata": {
      "needs_background": "light"
     },
     "output_type": "display_data"
    }
   ],
   "source": [
    "clusterer_fact.condensed_tree_.plot()"
   ]
  },
  {
   "cell_type": "markdown",
   "metadata": {},
   "source": [
    "提取簇"
   ]
  },
  {
   "cell_type": "code",
   "execution_count": 92,
   "metadata": {},
   "outputs": [
    {
     "name": "stderr",
     "output_type": "stream",
     "text": [
      "/Users/cuichengyuan/anaconda3/lib/python3.7/site-packages/hdbscan/plots.py:383: UserWarning: Infinite lambda values encountered in chosen clusters. This might be due to duplicates in the data.\n",
      "  warn('Infinite lambda values encountered in chosen clusters.'\n"
     ]
    },
    {
     "data": {
      "text/plain": [
       "<matplotlib.axes._subplots.AxesSubplot at 0x7f7fe00e3350>"
      ]
     },
     "execution_count": 92,
     "metadata": {},
     "output_type": "execute_result"
    },
    {
     "data": {
      "image/png": "[encoded data removed]",
      "text/plain": [
       "<Figure size 432x288 with 2 Axes>"
      ]
     },
     "metadata": {
      "needs_background": "light"
     },
     "output_type": "display_data"
    }
   ],
   "source": [
    "clusterer_fact.condensed_tree_.plot(select_clusters=True, selection_palette=sns.color_palette())"
   ]
  },
  {
   "cell_type": "markdown",
   "metadata": {},
   "source": [
    "### DBScan"
   ]
  },
  {
   "cell_type": "code",
   "execution_count": 94,
   "metadata": {},
   "outputs": [],
   "source": [
    "from sklearn.cluster import DBSCAN"
   ]
  },
  {
   "cell_type": "markdown",
   "metadata": {},
   "source": [
    "##### one-hot"
   ]
  },
  {
   "cell_type": "code",
   "execution_count": 107,
   "metadata": {
    "scrolled": false
   },
   "outputs": [
    {
     "data": {
      "text/plain": [
       "array([ 0,  1,  0,  0, -1,  2,  2,  1, -1,  0,  0,  0,  0,  0,  0,  3,  2,\n",
       "        0,  4,  5, -1,  4,  1,  1,  0, -1,  3,  0,  0,  0,  0,  4,  6, -1,\n",
       "        0,  3,  5,  0,  0,  0,  0,  0,  0,  2,  0,  3,  3,  3,  5,  2,  3,\n",
       "        3,  4,  0,  5,  0,  5,  2,  5,  0,  7,  2,  0,  7,  2,  0,  3,  0,\n",
       "        6,  5,  1,  3, -1,  6,  6,  6,  0,  0,  0,  6,  3,  0,  5,  0,  0,\n",
       "        7,  0,  0])"
      ]
     },
     "execution_count": 107,
     "metadata": {},
     "output_type": "execute_result"
    }
   ],
   "source": [
    "clustering_one_hot = DBSCAN(eps=0.01, min_samples=3).fit(df_paper_regression_one_hot)\n",
    "clustering_one_hot.labels_"
   ]
  },
  {
   "cell_type": "markdown",
   "metadata": {},
   "source": [
    "##### factorize"
   ]
  },
  {
   "cell_type": "code",
   "execution_count": 110,
   "metadata": {},
   "outputs": [
    {
     "data": {
      "text/plain": [
       "array([ 0,  1,  0,  0, -1,  2,  2,  1, -1,  0,  0,  0,  0,  0,  0,  3,  2,\n",
       "        0,  4,  5, -1,  4,  1,  1,  0, -1,  3,  0,  0,  0,  0,  4,  6, -1,\n",
       "        0,  3,  5,  0,  0,  0,  0,  0,  0,  2,  0,  3,  3,  3,  5,  2,  3,\n",
       "        3,  4,  0,  5,  0,  5,  2,  5,  0,  7,  2,  0,  7,  2,  0,  3,  0,\n",
       "        6,  5,  1,  3, -1,  6,  6,  6,  0,  0,  0,  6,  3,  0,  5,  0,  0,\n",
       "        7,  0,  0])"
      ]
     },
     "execution_count": 110,
     "metadata": {},
     "output_type": "execute_result"
    }
   ],
   "source": [
    "clustering_fact = DBSCAN(eps=0.01, min_samples=3).fit(df_paper_regression_fact)\n",
    "clustering_fact.labels_"
   ]
  }
 ],
 "metadata": {
  "kernelspec": {
   "display_name": "Python 3",
   "language": "python",
   "name": "python3"
  },
  "language_info": {
   "codemirror_mode": {
    "name": "ipython",
    "version": 3
   },
   "file_extension": ".py",
   "mimetype": "text/x-python",
   "name": "python",
   "nbconvert_exporter": "python",
   "pygments_lexer": "ipython3",
   "version": "3.7.7"
  }
 },
 "nbformat": 4,
 "nbformat_minor": 1
}
