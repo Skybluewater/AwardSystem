{
 "cells": [
  {
   "cell_type": "code",
   "execution_count": 7,
   "metadata": {},
   "outputs": [],
   "source": [
    "from sklearn.cluster import KMeans"
   ]
  },
  {
   "cell_type": "code",
   "execution_count": 4,
   "metadata": {},
   "outputs": [],
   "source": [
    "from sklearn.decomposition import PCA"
   ]
  },
  {
   "cell_type": "code",
   "execution_count": 6,
   "metadata": {},
   "outputs": [],
   "source": [
    "import pandas as pd"
   ]
  },
  {
   "cell_type": "code",
   "execution_count": 8,
   "metadata": {},
   "outputs": [],
   "source": [
    "import numpy as np"
   ]
  },
  {
   "cell_type": "code",
   "execution_count": 110,
   "metadata": {},
   "outputs": [],
   "source": [
    "import matplotlib.pyplot as plt\n",
    "import matplotlib\n",
    "%matplotlib inline"
   ]
  },
  {
   "cell_type": "code",
   "execution_count": 14,
   "metadata": {},
   "outputs": [
    {
     "name": "stdout",
     "output_type": "stream",
     "text": [
      "Open Database successfully\n"
     ]
    }
   ],
   "source": [
    "import sqlite3\n",
    "\n",
    "conn = sqlite3.connect(\"../db.sqlite3\")\n",
    "\n",
    "print(\"Open Database successfully\")"
   ]
  },
  {
   "cell_type": "code",
   "execution_count": 19,
   "metadata": {},
   "outputs": [
    {
     "data": {
      "text/plain": [
       "[('Training',),\n",
       " ('UserTemp',),\n",
       " ('account_confirmstring',),\n",
       " ('account_profile_awardhistory',),\n",
       " ('account_profile_awardhistory_User',),\n",
       " ('account_profile_competitionrecord',),\n",
       " ('account_profile_honortitle',),\n",
       " ('account_profile_paperrecord',),\n",
       " ('account_profile_patentrecord',),\n",
       " ('account_profile_publishrecord',),\n",
       " ('account_profile_researchproject',),\n",
       " ('account_user',),\n",
       " ('account_user_groups',),\n",
       " ('account_user_user_permissions',),\n",
       " ('auth_group',),\n",
       " ('auth_group_permissions',),\n",
       " ('auth_permission',),\n",
       " ('award_info_awardclassification',),\n",
       " ('award_info_awardinfo',),\n",
       " ('award_info_awardinfo_Major',),\n",
       " ('award_info_awardinfopost',),\n",
       " ('award_info_category',),\n",
       " ('award_info_post',),\n",
       " ('award_info_post_tags',),\n",
       " ('award_info_post_users_focus',),\n",
       " ('award_info_tag',),\n",
       " ('captcha_captchastore',),\n",
       " ('django_admin_log',),\n",
       " ('django_content_type',),\n",
       " ('django_migrations',),\n",
       " ('django_session',),\n",
       " ('grade_info_deptinfo',),\n",
       " ('grade_info_gradeinfo',),\n",
       " ('grade_info_lessoninfo',),\n",
       " ('grade_info_lessoninfo_AffiliatedMajor',),\n",
       " ('grade_info_majorinfo',),\n",
       " ('grade_info_relationship',),\n",
       " ('grade_info_schoolyearinfo',),\n",
       " ('sqlite_sequence',)]"
      ]
     },
     "execution_count": 19,
     "metadata": {},
     "output_type": "execute_result"
    }
   ],
   "source": [
    "cur = conn.cursor()\n",
    "table_name = cur.execute(\"select name from sqlite_master where type='table' order by name\").fetchall()\n",
    "table_name"
   ]
  },
  {
   "cell_type": "code",
   "execution_count": 21,
   "metadata": {},
   "outputs": [
    {
     "data": {
      "text/plain": [
       "[(0, 'id', 'integer', 1, None, 1),\n",
       " (1, 'publishDate', 'date', 1, None, 0),\n",
       " (2, 'name', 'varchar(256)', 1, None, 0),\n",
       " (3, 'abstract', 'text', 0, None, 0),\n",
       " (4, 'magzineName', 'varchar(256)', 0, None, 0),\n",
       " (5, 'authOrder', 'varchar(1)', 1, None, 0),\n",
       " (6, 'totalAuthor', 'integer', 1, None, 0),\n",
       " (7, 'postStatus', 'varchar(2)', 1, None, 0),\n",
       " (8, 'totalReference', 'decimal', 1, None, 0),\n",
       " (9, 'conferenceChoice', 'varchar(2)', 1, None, 0),\n",
       " (10, 'SchoolYear_id', 'integer', 1, None, 0),\n",
       " (11, 'User_id', 'integer', 1, None, 0)]"
      ]
     },
     "execution_count": 21,
     "metadata": {},
     "output_type": "execute_result"
    }
   ],
   "source": [
    "cur.execute(\"PRAGMA table_info(account_profile_paperrecord)\")\n",
    "cur.fetchall()"
   ]
  },
  {
   "cell_type": "code",
   "execution_count": 22,
   "metadata": {},
   "outputs": [],
   "source": [
    "csv_head = [\"id\", \"User_id\", \"authOrder\", \"conferenceChoice\"]"
   ]
  },
  {
   "cell_type": "code",
   "execution_count": 45,
   "metadata": {},
   "outputs": [],
   "source": [
    "paper_record = conn.execute((\"select {} from account_profile_paperrecord\").\n",
    "                            format(\",\".join(csv_head))).fetchall()"
   ]
  },
  {
   "cell_type": "markdown",
   "metadata": {},
   "source": [
    "构建CSV"
   ]
  },
  {
   "cell_type": "code",
   "execution_count": 47,
   "metadata": {},
   "outputs": [
    {
     "data": {
      "text/plain": [
       "[(532, 3889, 'f', 'ic'),\n",
       " (533, 3889, 'f', 'tm'),\n",
       " (534, 3889, 'f', 'ic'),\n",
       " (535, 3900, 'f', 'ic'),\n",
       " (536, 3102, 't', 'ic'),\n",
       " (537, 3163, 'f', 'im'),\n",
       " (538, 3163, 'f', 'im'),\n",
       " (539, 3897, 'f', 'tm'),\n",
       " (540, 4323, 'f', 'nc'),\n",
       " (541, 3037, 'f', 'ic'),\n",
       " (542, 3037, 'f', 'ic'),\n",
       " (543, 3587, 'f', 'ic'),\n",
       " (544, 3877, 'f', 'ic'),\n",
       " (545, 3893, 'f', 'ic'),\n",
       " (546, 3836, 'f', 'ic'),\n",
       " (547, 3925, 's', 'tm'),\n",
       " (548, 4021, 'f', 'im'),\n",
       " (549, 3922, 'f', 'ic'),\n",
       " (550, 3840, 's', 'nc'),\n",
       " (551, 3839, 's', 'ic'),\n",
       " (552, 3936, 's', 'nm'),\n",
       " (553, 3936, 's', 'nc'),\n",
       " (554, 3005, 'f', 'tm'),\n",
       " (555, 3005, 'f', 'tm'),\n",
       " (556, 3858, 'f', 'ic'),\n",
       " (557, 3858, 's', 'os'),\n",
       " (558, 3927, 's', 'tm'),\n",
       " (559, 3885, 'f', 'ic'),\n",
       " (560, 3917, 'f', 'ic'),\n",
       " (561, 3834, 'f', 'ic'),\n",
       " (562, 3895, 'f', 'ic'),\n",
       " (563, 3866, 's', 'nc'),\n",
       " (564, 3198, 's', 'im'),\n",
       " (565, 3198, 'f', 'nm'),\n",
       " (566, 3933, 'f', 'ic'),\n",
       " (567, 3948, 's', 'tm'),\n",
       " (568, 3948, 's', 'ic'),\n",
       " (569, 3174, 'f', 'ic'),\n",
       " (570, 4201, 'f', 'ic'),\n",
       " (571, 3874, 'f', 'ic'),\n",
       " (572, 3935, 'f', 'ic'),\n",
       " (573, 3175, 'f', 'ic'),\n",
       " (574, 2995, 'f', 'ic'),\n",
       " (575, 4318, 'f', 'im'),\n",
       " (576, 4318, 'f', 'ic'),\n",
       " (577, 3978, 's', 'tm'),\n",
       " (578, 3978, 's', 'tm'),\n",
       " (579, 3009, 's', 'tm'),\n",
       " (580, 3040, 's', 'ic'),\n",
       " (581, 3040, 'f', 'im'),\n",
       " (582, 3020, 's', 'tm'),\n",
       " (583, 3167, 's', 'tm'),\n",
       " (584, 4142, 's', 'nc'),\n",
       " (585, 3225, 'f', 'ic'),\n",
       " (586, 3023, 's', 'ic'),\n",
       " (587, 3023, 'f', 'ic'),\n",
       " (588, 3023, 's', 'ic'),\n",
       " (589, 3934, 'f', 'im'),\n",
       " (590, 4327, 's', 'ic'),\n",
       " (591, 3411, 'f', 'ic'),\n",
       " (592, 4137, 'r', 'ic'),\n",
       " (593, 3896, 'f', 'im'),\n",
       " (594, 3826, 'f', 'ic'),\n",
       " (595, 3964, 'r', 'ic'),\n",
       " (596, 4322, 'f', 'im'),\n",
       " (597, 3838, 'f', 'ic'),\n",
       " (598, 3853, 's', 'tm'),\n",
       " (599, 3919, 'f', 'ic'),\n",
       " (600, 3211, 's', 'im'),\n",
       " (601, 3928, 's', 'ic'),\n",
       " (602, 3928, 'f', 'tm'),\n",
       " (603, 3869, 's', 'tm'),\n",
       " (604, 3869, 'f', 'nm'),\n",
       " (605, 3907, 's', 'im'),\n",
       " (606, 3907, 's', 'im'),\n",
       " (607, 3497, 's', 'im'),\n",
       " (608, 3497, 'f', 'ic'),\n",
       " (609, 3847, 'f', 'ic'),\n",
       " (610, 3847, 'f', 'ic'),\n",
       " (611, 3382, 's', 'im'),\n",
       " (612, 3182, 's', 'tm'),\n",
       " (613, 3977, 'f', 'ic'),\n",
       " (614, 3965, 's', 'ic'),\n",
       " (615, 3842, 'f', 'ic'),\n",
       " (616, 3842, 'f', 'ic'),\n",
       " (617, 3239, 'r', 'ic'),\n",
       " (618, 3166, 'f', 'ic'),\n",
       " (619, 3166, 'f', 'ic')]"
      ]
     },
     "execution_count": 47,
     "metadata": {},
     "output_type": "execute_result"
    }
   ],
   "source": [
    "paper_record"
   ]
  },
  {
   "cell_type": "markdown",
   "metadata": {},
   "source": [
    "构建CSV"
   ]
  },
  {
   "cell_type": "code",
   "execution_count": 48,
   "metadata": {},
   "outputs": [],
   "source": [
    "import csv\n",
    "with open(\"paper_record.csv\", \"w\", newline=\"\") as f:\n",
    "    ff = csv.writer(f)\n",
    "    ff.writerow(csv_head)\n",
    "    ff.writerows(paper_record)"
   ]
  },
  {
   "cell_type": "code",
   "execution_count": 74,
   "metadata": {},
   "outputs": [],
   "source": [
    "df_paper = pd.read_csv(\"paper_record.csv\", header=0, encoding=\"utf-8\")\n",
    "df_paper_regression_one_hot = df_paper.loc[:, [False, False, True, True]].copy()\n",
    "df_paper_regression_fact = df_paper_regression_one_hot.copy()"
   ]
  },
  {
   "cell_type": "markdown",
   "metadata": {},
   "source": [
    "确定Mapping"
   ]
  },
  {
   "cell_type": "markdown",
   "metadata": {},
   "source": [
    "##### 使用自定义mapping(factorize)"
   ]
  },
  {
   "cell_type": "code",
   "execution_count": 75,
   "metadata": {},
   "outputs": [],
   "source": [
    "conference_mapping = {\n",
    "    'ic': 1,\n",
    "    'im': 2,\n",
    "    'nc': 3,\n",
    "    'nm': 4,\n",
    "    'os': 5,\n",
    "    'tm': 6\n",
    "}\n",
    "\n",
    "auth_mapping = {\n",
    "    'f': 1,\n",
    "    'r': 2,\n",
    "    's': 3,\n",
    "    't': 4,\n",
    "}\n",
    "\n",
    "# df_paper_regression['authOrder'] = pd.factorize(df_paper_regression['authOrder'])\n",
    "# df_paper_regression['conferenceChoice'] = pd.factorize(df_paper_regression['conferenceChoice'])\n",
    "\n",
    "df_paper_regression_fact['authOrder'] = df_paper_regression_fact['authOrder'].map(auth_mapping)\n",
    "df_paper_regression_fact['conferenceChoice'] = df_paper_regression_fact['conferenceChoice'].map(conference_mapping)"
   ]
  },
  {
   "cell_type": "markdown",
   "metadata": {},
   "source": [
    "##### 使用one-hot encoding"
   ]
  },
  {
   "cell_type": "code",
   "execution_count": 76,
   "metadata": {},
   "outputs": [
    {
     "name": "stdout",
     "output_type": "stream",
     "text": [
      "    authOrder_f  authOrder_r  authOrder_s  authOrder_t  conferenceChoice_ic  \\\n",
      "0             1            0            0            0                    1   \n",
      "1             1            0            0            0                    0   \n",
      "2             1            0            0            0                    1   \n",
      "3             1            0            0            0                    1   \n",
      "4             0            0            0            1                    1   \n",
      "..          ...          ...          ...          ...                  ...   \n",
      "83            1            0            0            0                    1   \n",
      "84            1            0            0            0                    1   \n",
      "85            0            1            0            0                    1   \n",
      "86            1            0            0            0                    1   \n",
      "87            1            0            0            0                    1   \n",
      "\n",
      "    conferenceChoice_im  conferenceChoice_nc  conferenceChoice_nm  \\\n",
      "0                     0                    0                    0   \n",
      "1                     0                    0                    0   \n",
      "2                     0                    0                    0   \n",
      "3                     0                    0                    0   \n",
      "4                     0                    0                    0   \n",
      "..                  ...                  ...                  ...   \n",
      "83                    0                    0                    0   \n",
      "84                    0                    0                    0   \n",
      "85                    0                    0                    0   \n",
      "86                    0                    0                    0   \n",
      "87                    0                    0                    0   \n",
      "\n",
      "    conferenceChoice_os  conferenceChoice_tm  \n",
      "0                     0                    0  \n",
      "1                     0                    1  \n",
      "2                     0                    0  \n",
      "3                     0                    0  \n",
      "4                     0                    0  \n",
      "..                  ...                  ...  \n",
      "83                    0                    0  \n",
      "84                    0                    0  \n",
      "85                    0                    0  \n",
      "86                    0                    0  \n",
      "87                    0                    0  \n",
      "\n",
      "[88 rows x 10 columns]\n"
     ]
    }
   ],
   "source": [
    "df_paper_regression_one_hot = pd.get_dummies(df_paper_regression_one_hot)\n",
    "print(df_paper_regression_one_hot)"
   ]
  },
  {
   "cell_type": "markdown",
   "metadata": {},
   "source": [
    "##### one-hot 输出"
   ]
  },
  {
   "cell_type": "code",
   "execution_count": 77,
   "metadata": {},
   "outputs": [],
   "source": [
    "kmeans_one_hot = KMeans(n_clusters=5, random_state=10).fit(df_paper_regression_one_hot)"
   ]
  },
  {
   "cell_type": "code",
   "execution_count": 78,
   "metadata": {},
   "outputs": [
    {
     "data": {
      "text/plain": [
       "array([2, 1, 2, 2, 2, 1, 1, 1, 1, 2, 2, 2, 2, 2, 2, 3, 1, 2, 0, 4, 0, 0,\n",
       "       1, 1, 2, 0, 3, 2, 2, 2, 2, 0, 0, 1, 2, 3, 4, 2, 2, 2, 2, 2, 2, 1,\n",
       "       2, 3, 3, 3, 4, 1, 3, 3, 0, 2, 4, 2, 4, 1, 4, 2, 2, 1, 2, 2, 1, 2,\n",
       "       3, 2, 0, 4, 1, 3, 1, 0, 0, 0, 2, 2, 2, 0, 3, 2, 4, 2, 2, 2, 2, 2],\n",
       "      dtype=int32)"
      ]
     },
     "execution_count": 78,
     "metadata": {},
     "output_type": "execute_result"
    }
   ],
   "source": [
    "kmeans_one_hot.labels_"
   ]
  },
  {
   "cell_type": "markdown",
   "metadata": {},
   "source": [
    "##### factorize输出"
   ]
  },
  {
   "cell_type": "code",
   "execution_count": 79,
   "metadata": {},
   "outputs": [
    {
     "data": {
      "text/plain": [
       "array([1, 4, 1, 1, 2, 1, 1, 4, 0, 1, 1, 1, 1, 1, 1, 3, 1, 1, 0, 2, 0, 0,\n",
       "       4, 4, 1, 3, 3, 1, 1, 1, 1, 0, 2, 0, 1, 3, 2, 1, 1, 1, 1, 1, 1, 1,\n",
       "       1, 3, 3, 3, 2, 1, 3, 3, 0, 1, 2, 1, 2, 1, 2, 1, 1, 1, 1, 1, 1, 1,\n",
       "       3, 1, 2, 2, 4, 3, 0, 2, 2, 2, 1, 1, 1, 2, 3, 1, 2, 1, 1, 1, 1, 1],\n",
       "      dtype=int32)"
      ]
     },
     "execution_count": 79,
     "metadata": {},
     "output_type": "execute_result"
    }
   ],
   "source": [
    "kmeans_factorize = KMeans(n_clusters=5, random_state=10).fit(df_paper_regression_fact)\n",
    "kmeans_factorize.labels_"
   ]
  },
  {
   "cell_type": "markdown",
   "metadata": {},
   "source": [
    "可以看到one-hot的输出结果和factorize有所差异，归根结底是距离度量的问题"
   ]
  },
  {
   "cell_type": "code",
   "execution_count": 80,
   "metadata": {},
   "outputs": [
    {
     "data": {
      "text/plain": [
       "array([[2.25      , 3.375     ],\n",
       "       [1.0625    , 1.16666667],\n",
       "       [3.06666667, 1.4       ],\n",
       "       [3.        , 5.91666667],\n",
       "       [1.        , 6.        ]])"
      ]
     },
     "execution_count": 80,
     "metadata": {},
     "output_type": "execute_result"
    }
   ],
   "source": [
    "kmeans_factorize.cluster_centers_"
   ]
  },
  {
   "cell_type": "markdown",
   "metadata": {},
   "source": [
    "##### 保存聚类结果输出CSV"
   ]
  },
  {
   "cell_type": "markdown",
   "metadata": {},
   "source": [
    "Factorize结果"
   ]
  },
  {
   "cell_type": "code",
   "execution_count": 112,
   "metadata": {},
   "outputs": [],
   "source": [
    "df_paper_regression_fact['labels'] = kmeans_factorize.labels_"
   ]
  },
  {
   "cell_type": "code",
   "execution_count": 91,
   "metadata": {
    "scrolled": true
   },
   "outputs": [
    {
     "data": {
      "text/html": [
       "<div>\n",
       "<style scoped>\n",
       "    .dataframe tbody tr th:only-of-type {\n",
       "        vertical-align: middle;\n",
       "    }\n",
       "\n",
       "    .dataframe tbody tr th {\n",
       "        vertical-align: top;\n",
       "    }\n",
       "\n",
       "    .dataframe thead th {\n",
       "        text-align: right;\n",
       "    }\n",
       "</style>\n",
       "<table border=\"1\" class=\"dataframe\">\n",
       "  <thead>\n",
       "    <tr style=\"text-align: right;\">\n",
       "      <th></th>\n",
       "      <th>authOrder</th>\n",
       "      <th>conferenceChoice</th>\n",
       "      <th>labels</th>\n",
       "    </tr>\n",
       "  </thead>\n",
       "  <tbody>\n",
       "    <tr>\n",
       "      <th>0</th>\n",
       "      <td>1</td>\n",
       "      <td>1</td>\n",
       "      <td>1</td>\n",
       "    </tr>\n",
       "    <tr>\n",
       "      <th>1</th>\n",
       "      <td>1</td>\n",
       "      <td>6</td>\n",
       "      <td>4</td>\n",
       "    </tr>\n",
       "    <tr>\n",
       "      <th>2</th>\n",
       "      <td>1</td>\n",
       "      <td>1</td>\n",
       "      <td>1</td>\n",
       "    </tr>\n",
       "    <tr>\n",
       "      <th>3</th>\n",
       "      <td>1</td>\n",
       "      <td>1</td>\n",
       "      <td>1</td>\n",
       "    </tr>\n",
       "    <tr>\n",
       "      <th>4</th>\n",
       "      <td>4</td>\n",
       "      <td>1</td>\n",
       "      <td>2</td>\n",
       "    </tr>\n",
       "    <tr>\n",
       "      <th>...</th>\n",
       "      <td>...</td>\n",
       "      <td>...</td>\n",
       "      <td>...</td>\n",
       "    </tr>\n",
       "    <tr>\n",
       "      <th>83</th>\n",
       "      <td>1</td>\n",
       "      <td>1</td>\n",
       "      <td>1</td>\n",
       "    </tr>\n",
       "    <tr>\n",
       "      <th>84</th>\n",
       "      <td>1</td>\n",
       "      <td>1</td>\n",
       "      <td>1</td>\n",
       "    </tr>\n",
       "    <tr>\n",
       "      <th>85</th>\n",
       "      <td>2</td>\n",
       "      <td>1</td>\n",
       "      <td>1</td>\n",
       "    </tr>\n",
       "    <tr>\n",
       "      <th>86</th>\n",
       "      <td>1</td>\n",
       "      <td>1</td>\n",
       "      <td>1</td>\n",
       "    </tr>\n",
       "    <tr>\n",
       "      <th>87</th>\n",
       "      <td>1</td>\n",
       "      <td>1</td>\n",
       "      <td>1</td>\n",
       "    </tr>\n",
       "  </tbody>\n",
       "</table>\n",
       "<p>88 rows × 3 columns</p>\n",
       "</div>"
      ],
      "text/plain": [
       "    authOrder  conferenceChoice  labels\n",
       "0           1                 1       1\n",
       "1           1                 6       4\n",
       "2           1                 1       1\n",
       "3           1                 1       1\n",
       "4           4                 1       2\n",
       "..        ...               ...     ...\n",
       "83          1                 1       1\n",
       "84          1                 1       1\n",
       "85          2                 1       1\n",
       "86          1                 1       1\n",
       "87          1                 1       1\n",
       "\n",
       "[88 rows x 3 columns]"
      ]
     },
     "execution_count": 91,
     "metadata": {},
     "output_type": "execute_result"
    }
   ],
   "source": [
    "df_paper_regression_fact"
   ]
  },
  {
   "cell_type": "code",
   "execution_count": 111,
   "metadata": {},
   "outputs": [
    {
     "data": {
      "text/plain": [
       "<matplotlib.axes._subplots.AxesSubplot at 0x7fe791dab590>"
      ]
     },
     "execution_count": 111,
     "metadata": {},
     "output_type": "execute_result"
    },
    {
     "data": {
      "image/png": "[encoded data removed]",
      "text/plain": [
       "<Figure size 432x288 with 1 Axes>"
      ]
     },
     "metadata": {
      "needs_background": "light"
     },
     "output_type": "display_data"
    }
   ],
   "source": [
    "df_paper_regression_fact.groupby('labels')['labels'].count().plot(kind=\"bar\")"
   ]
  },
  {
   "cell_type": "code",
   "execution_count": 113,
   "metadata": {},
   "outputs": [],
   "source": [
    "df_paper_regression_fact.to_csv('paper_regression_fact.csv')"
   ]
  },
  {
   "cell_type": "code",
   "execution_count": 115,
   "metadata": {},
   "outputs": [
    {
     "data": {
      "image/png": "[encoded data removed]",
      "text/plain": [
       "<Figure size 432x288 with 1 Axes>"
      ]
     },
     "metadata": {
      "needs_background": "light"
     },
     "output_type": "display_data"
    }
   ],
   "source": [
    "pca = PCA(n_components=2)\n",
    "new_pca = pd.DataFrame(pca.fit_transform(df_paper_regression_fact))\n",
    "d = new_pca[df_paper_regression_fact['labels'] == 0]\n",
    "plt.plot(d[0], d[1], 'r.')\n",
    "d = new_pca[df_paper_regression_fact['labels'] == 2]\n",
    "plt.plot(d[0], d[1], 'b.')\n",
    "d = new_pca[df_paper_regression_fact['labels'] == 1]\n",
    "plt.plot(d[0], d[1], 'g.')\n",
    "d = new_pca[df_paper_regression_fact['labels'] == 3]\n",
    "plt.plot(d[0], d[1], 'm.')\n",
    "d = new_pca[df_paper_regression_fact['labels'] == 4]\n",
    "plt.plot(d[0], d[1], 'k.')\n",
    "plt.show()"
   ]
  },
  {
   "cell_type": "markdown",
   "metadata": {},
   "source": [
    "one-hot结果"
   ]
  },
  {
   "cell_type": "code",
   "execution_count": 83,
   "metadata": {},
   "outputs": [],
   "source": [
    "df_paper_regression_one_hot['labels'] = kmeans_one_hot.labels_"
   ]
  },
  {
   "cell_type": "code",
   "execution_count": 104,
   "metadata": {},
   "outputs": [
    {
     "data": {
      "text/html": [
       "<div>\n",
       "<style scoped>\n",
       "    .dataframe tbody tr th:only-of-type {\n",
       "        vertical-align: middle;\n",
       "    }\n",
       "\n",
       "    .dataframe tbody tr th {\n",
       "        vertical-align: top;\n",
       "    }\n",
       "\n",
       "    .dataframe thead th {\n",
       "        text-align: right;\n",
       "    }\n",
       "</style>\n",
       "<table border=\"1\" class=\"dataframe\">\n",
       "  <thead>\n",
       "    <tr style=\"text-align: right;\">\n",
       "      <th></th>\n",
       "      <th>authOrder_f</th>\n",
       "      <th>authOrder_r</th>\n",
       "      <th>authOrder_s</th>\n",
       "      <th>authOrder_t</th>\n",
       "      <th>conferenceChoice_ic</th>\n",
       "      <th>conferenceChoice_im</th>\n",
       "      <th>conferenceChoice_nc</th>\n",
       "      <th>conferenceChoice_nm</th>\n",
       "      <th>conferenceChoice_os</th>\n",
       "      <th>conferenceChoice_tm</th>\n",
       "      <th>labels</th>\n",
       "    </tr>\n",
       "  </thead>\n",
       "  <tbody>\n",
       "    <tr>\n",
       "      <th>0</th>\n",
       "      <td>1</td>\n",
       "      <td>0</td>\n",
       "      <td>0</td>\n",
       "      <td>0</td>\n",
       "      <td>1</td>\n",
       "      <td>0</td>\n",
       "      <td>0</td>\n",
       "      <td>0</td>\n",
       "      <td>0</td>\n",
       "      <td>0</td>\n",
       "      <td>2</td>\n",
       "    </tr>\n",
       "    <tr>\n",
       "      <th>1</th>\n",
       "      <td>1</td>\n",
       "      <td>0</td>\n",
       "      <td>0</td>\n",
       "      <td>0</td>\n",
       "      <td>0</td>\n",
       "      <td>0</td>\n",
       "      <td>0</td>\n",
       "      <td>0</td>\n",
       "      <td>0</td>\n",
       "      <td>1</td>\n",
       "      <td>1</td>\n",
       "    </tr>\n",
       "    <tr>\n",
       "      <th>2</th>\n",
       "      <td>1</td>\n",
       "      <td>0</td>\n",
       "      <td>0</td>\n",
       "      <td>0</td>\n",
       "      <td>1</td>\n",
       "      <td>0</td>\n",
       "      <td>0</td>\n",
       "      <td>0</td>\n",
       "      <td>0</td>\n",
       "      <td>0</td>\n",
       "      <td>2</td>\n",
       "    </tr>\n",
       "    <tr>\n",
       "      <th>3</th>\n",
       "      <td>1</td>\n",
       "      <td>0</td>\n",
       "      <td>0</td>\n",
       "      <td>0</td>\n",
       "      <td>1</td>\n",
       "      <td>0</td>\n",
       "      <td>0</td>\n",
       "      <td>0</td>\n",
       "      <td>0</td>\n",
       "      <td>0</td>\n",
       "      <td>2</td>\n",
       "    </tr>\n",
       "    <tr>\n",
       "      <th>4</th>\n",
       "      <td>0</td>\n",
       "      <td>0</td>\n",
       "      <td>0</td>\n",
       "      <td>1</td>\n",
       "      <td>1</td>\n",
       "      <td>0</td>\n",
       "      <td>0</td>\n",
       "      <td>0</td>\n",
       "      <td>0</td>\n",
       "      <td>0</td>\n",
       "      <td>2</td>\n",
       "    </tr>\n",
       "    <tr>\n",
       "      <th>...</th>\n",
       "      <td>...</td>\n",
       "      <td>...</td>\n",
       "      <td>...</td>\n",
       "      <td>...</td>\n",
       "      <td>...</td>\n",
       "      <td>...</td>\n",
       "      <td>...</td>\n",
       "      <td>...</td>\n",
       "      <td>...</td>\n",
       "      <td>...</td>\n",
       "      <td>...</td>\n",
       "    </tr>\n",
       "    <tr>\n",
       "      <th>83</th>\n",
       "      <td>1</td>\n",
       "      <td>0</td>\n",
       "      <td>0</td>\n",
       "      <td>0</td>\n",
       "      <td>1</td>\n",
       "      <td>0</td>\n",
       "      <td>0</td>\n",
       "      <td>0</td>\n",
       "      <td>0</td>\n",
       "      <td>0</td>\n",
       "      <td>2</td>\n",
       "    </tr>\n",
       "    <tr>\n",
       "      <th>84</th>\n",
       "      <td>1</td>\n",
       "      <td>0</td>\n",
       "      <td>0</td>\n",
       "      <td>0</td>\n",
       "      <td>1</td>\n",
       "      <td>0</td>\n",
       "      <td>0</td>\n",
       "      <td>0</td>\n",
       "      <td>0</td>\n",
       "      <td>0</td>\n",
       "      <td>2</td>\n",
       "    </tr>\n",
       "    <tr>\n",
       "      <th>85</th>\n",
       "      <td>0</td>\n",
       "      <td>1</td>\n",
       "      <td>0</td>\n",
       "      <td>0</td>\n",
       "      <td>1</td>\n",
       "      <td>0</td>\n",
       "      <td>0</td>\n",
       "      <td>0</td>\n",
       "      <td>0</td>\n",
       "      <td>0</td>\n",
       "      <td>2</td>\n",
       "    </tr>\n",
       "    <tr>\n",
       "      <th>86</th>\n",
       "      <td>1</td>\n",
       "      <td>0</td>\n",
       "      <td>0</td>\n",
       "      <td>0</td>\n",
       "      <td>1</td>\n",
       "      <td>0</td>\n",
       "      <td>0</td>\n",
       "      <td>0</td>\n",
       "      <td>0</td>\n",
       "      <td>0</td>\n",
       "      <td>2</td>\n",
       "    </tr>\n",
       "    <tr>\n",
       "      <th>87</th>\n",
       "      <td>1</td>\n",
       "      <td>0</td>\n",
       "      <td>0</td>\n",
       "      <td>0</td>\n",
       "      <td>1</td>\n",
       "      <td>0</td>\n",
       "      <td>0</td>\n",
       "      <td>0</td>\n",
       "      <td>0</td>\n",
       "      <td>0</td>\n",
       "      <td>2</td>\n",
       "    </tr>\n",
       "  </tbody>\n",
       "</table>\n",
       "<p>88 rows × 11 columns</p>\n",
       "</div>"
      ],
      "text/plain": [
       "    authOrder_f  authOrder_r  authOrder_s  authOrder_t  conferenceChoice_ic  \\\n",
       "0             1            0            0            0                    1   \n",
       "1             1            0            0            0                    0   \n",
       "2             1            0            0            0                    1   \n",
       "3             1            0            0            0                    1   \n",
       "4             0            0            0            1                    1   \n",
       "..          ...          ...          ...          ...                  ...   \n",
       "83            1            0            0            0                    1   \n",
       "84            1            0            0            0                    1   \n",
       "85            0            1            0            0                    1   \n",
       "86            1            0            0            0                    1   \n",
       "87            1            0            0            0                    1   \n",
       "\n",
       "    conferenceChoice_im  conferenceChoice_nc  conferenceChoice_nm  \\\n",
       "0                     0                    0                    0   \n",
       "1                     0                    0                    0   \n",
       "2                     0                    0                    0   \n",
       "3                     0                    0                    0   \n",
       "4                     0                    0                    0   \n",
       "..                  ...                  ...                  ...   \n",
       "83                    0                    0                    0   \n",
       "84                    0                    0                    0   \n",
       "85                    0                    0                    0   \n",
       "86                    0                    0                    0   \n",
       "87                    0                    0                    0   \n",
       "\n",
       "    conferenceChoice_os  conferenceChoice_tm  labels  \n",
       "0                     0                    0       2  \n",
       "1                     0                    1       1  \n",
       "2                     0                    0       2  \n",
       "3                     0                    0       2  \n",
       "4                     0                    0       2  \n",
       "..                  ...                  ...     ...  \n",
       "83                    0                    0       2  \n",
       "84                    0                    0       2  \n",
       "85                    0                    0       2  \n",
       "86                    0                    0       2  \n",
       "87                    0                    0       2  \n",
       "\n",
       "[88 rows x 11 columns]"
      ]
     },
     "execution_count": 104,
     "metadata": {},
     "output_type": "execute_result"
    }
   ],
   "source": [
    "df_paper_regression_one_hot"
   ]
  },
  {
   "cell_type": "code",
   "execution_count": 109,
   "metadata": {},
   "outputs": [
    {
     "data": {
      "text/plain": [
       "<matplotlib.axes._subplots.AxesSubplot at 0x7fe791d4e950>"
      ]
     },
     "execution_count": 109,
     "metadata": {},
     "output_type": "execute_result"
    },
    {
     "data": {
      "image/png": "[encoded data removed]",
      "text/plain": [
       "<Figure size 432x288 with 1 Axes>"
      ]
     },
     "metadata": {
      "needs_background": "light"
     },
     "output_type": "display_data"
    }
   ],
   "source": [
    "%matplotlib inline\n",
    "df_paper_regression_one_hot.groupby('labels')['labels'].count().plot(kind='bar')"
   ]
  },
  {
   "cell_type": "code",
   "execution_count": 118,
   "metadata": {},
   "outputs": [],
   "source": [
    "df_paper_regression_one_hot.to_csv(\"paper_regression_one_hot.csv\")"
   ]
  },
  {
   "cell_type": "code",
   "execution_count": 117,
   "metadata": {},
   "outputs": [
    {
     "data": {
      "image/png": "[encoded data removed]",
      "text/plain": [
       "<Figure size 432x288 with 1 Axes>"
      ]
     },
     "metadata": {
      "needs_background": "light"
     },
     "output_type": "display_data"
    }
   ],
   "source": [
    "pca = PCA(n_components=2)\n",
    "new_pca = pd.DataFrame(pca.fit_transform(df_paper_regression_one_hot))\n",
    "d = new_pca[df_paper_regression_one_hot['labels'] == 0]\n",
    "plt.plot(d[0], d[1], 'r.')\n",
    "d = new_pca[df_paper_regression_one_hot['labels'] == 2]\n",
    "plt.plot(d[0], d[1], 'b.')\n",
    "d = new_pca[df_paper_regression_one_hot['labels'] == 1]\n",
    "plt.plot(d[0], d[1], 'g.')\n",
    "d = new_pca[df_paper_regression_one_hot['labels'] == 3]\n",
    "plt.plot(d[0], d[1], 'm.')\n",
    "d = new_pca[df_paper_regression_one_hot['labels'] == 4]\n",
    "plt.plot(d[0], d[1], 'k.')\n",
    "plt.show()"
   ]
  },
  {
   "cell_type": "markdown",
   "metadata": {},
   "source": [
    "从上述明显看出one-hot后聚类效果更好"
   ]
  },
  {
   "cell_type": "code",
   "execution_count": null,
   "metadata": {},
   "outputs": [],
   "source": []
  }
 ],
 "metadata": {
  "kernelspec": {
   "display_name": "Python 3",
   "language": "python",
   "name": "python3"
  },
  "language_info": {
   "codemirror_mode": {
    "name": "ipython",
    "version": 3
   },
   "file_extension": ".py",
   "mimetype": "text/x-python",
   "name": "python",
   "nbconvert_exporter": "python",
   "pygments_lexer": "ipython3",
   "version": "3.7.7"
  }
 },
 "nbformat": 4,
 "nbformat_minor": 1
}
