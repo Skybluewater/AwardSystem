{
 "cells": [
  {
   "cell_type": "code",
   "execution_count": 1,
   "metadata": {},
   "outputs": [],
   "source": [
    "import pandas as pd\n",
    "import sqlite3\n",
    "import matplotlib.pyplot as plt\n",
    "%matplotlib inline"
   ]
  },
  {
   "cell_type": "code",
   "execution_count": 8,
   "metadata": {},
   "outputs": [
    {
     "name": "stdout",
     "output_type": "stream",
     "text": [
      "Open Database successfully\n",
      "[(0, 'id', 'integer', 1, None, 1), (1, 'credit', 'decimal', 1, None, 0), (2, 'grade', 'decimal', 0, None, 0), (3, 'ifRestudied', 'bool', 1, None, 0), (4, 'testKind', 'varchar(2)', 1, None, 0), (5, 'optionChoice', 'varchar(2)', 1, None, 0), (6, 'LessonID_id', 'integer', 1, None, 0), (7, 'SchoolYearID_id', 'integer', 1, None, 0), (8, 'user_id', 'integer', 1, None, 0)]\n"
     ]
    }
   ],
   "source": [
    "conn = sqlite3.connect(\"../db.sqlite3\")\n",
    "\n",
    "print(\"Open Database successfully\")\n",
    "cur = conn.cursor()\n",
    "cur.execute(\"PRAGMA table_info(grade_info_gradeinfo)\")\n",
    "cur.fetchall()"
   ]
  },
  {
   "cell_type": "code",
   "execution_count": 4,
   "metadata": {
    "scrolled": true
   },
   "outputs": [
    {
     "data": {
      "text/plain": [
       "[(19170,)]"
      ]
     },
     "execution_count": 4,
     "metadata": {},
     "output_type": "execute_result"
    }
   ],
   "source": [
    "cur.execute(\"select count(*) from grade_info_gradeinfo where user_id in (select id from account_user where isPostgraduate = True)\").fetchall()"
   ]
  },
  {
   "cell_type": "code",
   "execution_count": 15,
   "metadata": {},
   "outputs": [
    {
     "data": {
      "text/plain": [
       "<sqlite3.Cursor at 0x7fd4cb93d3b0>"
      ]
     },
     "execution_count": 15,
     "metadata": {},
     "output_type": "execute_result"
    }
   ],
   "source": [
    "cur.execute(\"select * from grade_info_gradeinfo where user_id in (select id from account_user where isPostgraduate = True)\")"
   ]
  },
  {
   "cell_type": "code",
   "execution_count": 16,
   "metadata": {},
   "outputs": [],
   "source": [
    "result = cur.fetchall()"
   ]
  },
  {
   "cell_type": "code",
   "execution_count": 17,
   "metadata": {},
   "outputs": [
    {
     "data": {
      "text/plain": [
       "(347587, 2, 92, 0, 'np', 'uc', 2700001, 5, 2991)"
      ]
     },
     "execution_count": 17,
     "metadata": {},
     "output_type": "execute_result"
    }
   ],
   "source": [
    "result[0]"
   ]
  },
  {
   "cell_type": "code",
   "execution_count": 46,
   "metadata": {},
   "outputs": [],
   "source": [
    "classification_mapping = {\n",
    "    \"专业选修课\": \"po\",\n",
    "    \"专业必修课\": \"pm\",\n",
    "    \"选修课\": \"op\",\n",
    "    \"未分类课\": \"uc\",\n",
    "    \"公共必修课\": \"cm\"\n",
    "}"
   ]
  },
  {
   "cell_type": "code",
   "execution_count": 19,
   "metadata": {},
   "outputs": [],
   "source": [
    "def unClassified(n, *args):\n",
    "    if n[6] == classification_mapping[args]:\n",
    "        return n"
   ]
  },
  {
   "cell_type": "code",
   "execution_count": 23,
   "metadata": {},
   "outputs": [
    {
     "data": {
      "text/plain": [
       "<filter at 0x7f849642b310>"
      ]
     },
     "execution_count": 23,
     "metadata": {},
     "output_type": "execute_result"
    }
   ],
   "source": [
    "filter(unClassified, result)"
   ]
  },
  {
   "cell_type": "code",
   "execution_count": 53,
   "metadata": {},
   "outputs": [],
   "source": [
    "result_po = [i for i in result if i[5] == classification_mapping[\"专业选修课\"]]\n",
    "result_pm = [i for i in result if i[5] == classification_mapping[\"专业必修课\"]]\n",
    "result_op = [i for i in result if i[5] == classification_mapping[\"选修课\"]]\n",
    "result_cm = [i for i in result if i[5] == classification_mapping[\"公共必修课\"]]\n",
    "result_uc = [i for i in result if i[5] == classification_mapping[\"未分类课\"]]"
   ]
  },
  {
   "cell_type": "code",
   "execution_count": 3,
   "metadata": {},
   "outputs": [],
   "source": [
    "user = cur.execute(\"select id from account_user where isPostgraduate = True\").fetchall()"
   ]
  },
  {
   "cell_type": "code",
   "execution_count": 97,
   "metadata": {},
   "outputs": [
    {
     "data": {
      "text/plain": [
       "1469"
      ]
     },
     "execution_count": 97,
     "metadata": {},
     "output_type": "execute_result"
    }
   ],
   "source": [
    "len(user)"
   ]
  },
  {
   "cell_type": "code",
   "execution_count": 11,
   "metadata": {},
   "outputs": [],
   "source": [
    "user = [u[0] for u in user]"
   ]
  },
  {
   "cell_type": "code",
   "execution_count": 13,
   "metadata": {},
   "outputs": [],
   "source": [
    "pd_grade = pd.DataFrame(columns=[\"user_id\", \"专业选修课成绩\", \"专业选修课学分\", \"专业必修课成绩\", \"专业必修课学分\", \"选修课成绩\", \"选修课学分\", \"公共必修课成绩\", \"公共必修课学分\", \"未分类课成绩\", \"未分类课学分\", \"总成绩\", \"总学分\"])"
   ]
  },
  {
   "cell_type": "code",
   "execution_count": 19,
   "metadata": {},
   "outputs": [],
   "source": [
    "count = 0\n",
    "for user_id in user:\n",
    "    dic1 = {\n",
    "        \"credit_pm\": 0,\n",
    "        \"credit_op\": 0,\n",
    "        \"credit_po\": 0,\n",
    "        \"credit_cm\": 0,\n",
    "        \"credit_uc\": 0,\n",
    "        \"average_grade_pm\": 0,\n",
    "        \"average_grade_po\": 0,\n",
    "        \"average_grade_op\": 0,\n",
    "        \"average_grade_cm\": 0,\n",
    "        \"average_grade_uc\": 0,\n",
    "    }\n",
    "    for grade in result:\n",
    "        if grade[8] == user_id:\n",
    "            dic1[\"credit_\" + grade[5]] += grade[1]\n",
    "            dic1[\"average_grade_\" + grade[5]] += grade[2]*grade[1]\n",
    "    lis = [\"pm\", \"op\", \"po\", \"cm\", \"uc\"]\n",
    "    total_grade = 0\n",
    "    total_credit = 0\n",
    "    for item in lis:\n",
    "        total_grade += dic1[\"average_grade_\" + item]\n",
    "        if dic1[\"credit_\" + item] != 0:\n",
    "            dic1[\"average_grade_\" + item] /= dic1[\"credit_\" + item]\n",
    "        total_credit += dic1[\"credit_\" + item]\n",
    "    if total_credit != 0:\n",
    "        total_grade /= total_credit\n",
    "    pd_grade.loc[count] = [user_id, dic1[\"average_grade_po\"], dic1[\"credit_po\"], \n",
    "                           dic1[\"average_grade_pm\"], dic1[\"credit_pm\"],\n",
    "                           dic1[\"average_grade_op\"], dic1[\"credit_op\"], \n",
    "                           dic1[\"average_grade_cm\"], dic1[\"credit_cm\"],\n",
    "                           dic1[\"average_grade_uc\"], dic1[\"credit_uc\"],\n",
    "                           total_grade, total_credit\n",
    "                          ]\n",
    "    count += 1"
   ]
  },
  {
   "cell_type": "code",
   "execution_count": 20,
   "metadata": {},
   "outputs": [
    {
     "data": {
      "text/html": [
       "<div>\n",
       "<style scoped>\n",
       "    .dataframe tbody tr th:only-of-type {\n",
       "        vertical-align: middle;\n",
       "    }\n",
       "\n",
       "    .dataframe tbody tr th {\n",
       "        vertical-align: top;\n",
       "    }\n",
       "\n",
       "    .dataframe thead th {\n",
       "        text-align: right;\n",
       "    }\n",
       "</style>\n",
       "<table border=\"1\" class=\"dataframe\">\n",
       "  <thead>\n",
       "    <tr style=\"text-align: right;\">\n",
       "      <th></th>\n",
       "      <th>user_id</th>\n",
       "      <th>专业选修课成绩</th>\n",
       "      <th>专业选修课学分</th>\n",
       "      <th>专业必修课成绩</th>\n",
       "      <th>专业必修课学分</th>\n",
       "      <th>选修课成绩</th>\n",
       "      <th>选修课学分</th>\n",
       "      <th>公共必修课成绩</th>\n",
       "      <th>公共必修课学分</th>\n",
       "      <th>未分类课成绩</th>\n",
       "      <th>未分类课学分</th>\n",
       "      <th>总成绩</th>\n",
       "      <th>总学分</th>\n",
       "    </tr>\n",
       "  </thead>\n",
       "  <tbody>\n",
       "    <tr>\n",
       "      <th>0</th>\n",
       "      <td>2991.0</td>\n",
       "      <td>0.0</td>\n",
       "      <td>0.0</td>\n",
       "      <td>0.0</td>\n",
       "      <td>0.0</td>\n",
       "      <td>90.461538</td>\n",
       "      <td>6.5</td>\n",
       "      <td>0.0</td>\n",
       "      <td>0.0</td>\n",
       "      <td>83.378378</td>\n",
       "      <td>18.5</td>\n",
       "      <td>85.220000</td>\n",
       "      <td>25.0</td>\n",
       "    </tr>\n",
       "    <tr>\n",
       "      <th>1</th>\n",
       "      <td>2992.0</td>\n",
       "      <td>0.0</td>\n",
       "      <td>0.0</td>\n",
       "      <td>0.0</td>\n",
       "      <td>0.0</td>\n",
       "      <td>89.250000</td>\n",
       "      <td>8.0</td>\n",
       "      <td>0.0</td>\n",
       "      <td>0.0</td>\n",
       "      <td>89.529412</td>\n",
       "      <td>17.0</td>\n",
       "      <td>89.440000</td>\n",
       "      <td>25.0</td>\n",
       "    </tr>\n",
       "    <tr>\n",
       "      <th>2</th>\n",
       "      <td>2993.0</td>\n",
       "      <td>0.0</td>\n",
       "      <td>0.0</td>\n",
       "      <td>0.0</td>\n",
       "      <td>0.0</td>\n",
       "      <td>90.947368</td>\n",
       "      <td>9.5</td>\n",
       "      <td>0.0</td>\n",
       "      <td>0.0</td>\n",
       "      <td>85.903226</td>\n",
       "      <td>15.5</td>\n",
       "      <td>87.820000</td>\n",
       "      <td>25.0</td>\n",
       "    </tr>\n",
       "    <tr>\n",
       "      <th>3</th>\n",
       "      <td>2994.0</td>\n",
       "      <td>0.0</td>\n",
       "      <td>0.0</td>\n",
       "      <td>0.0</td>\n",
       "      <td>0.0</td>\n",
       "      <td>85.818182</td>\n",
       "      <td>11.0</td>\n",
       "      <td>0.0</td>\n",
       "      <td>0.0</td>\n",
       "      <td>89.785714</td>\n",
       "      <td>14.0</td>\n",
       "      <td>88.040000</td>\n",
       "      <td>25.0</td>\n",
       "    </tr>\n",
       "    <tr>\n",
       "      <th>4</th>\n",
       "      <td>2995.0</td>\n",
       "      <td>0.0</td>\n",
       "      <td>0.0</td>\n",
       "      <td>0.0</td>\n",
       "      <td>0.0</td>\n",
       "      <td>82.692308</td>\n",
       "      <td>6.5</td>\n",
       "      <td>0.0</td>\n",
       "      <td>0.0</td>\n",
       "      <td>86.459459</td>\n",
       "      <td>18.5</td>\n",
       "      <td>85.480000</td>\n",
       "      <td>25.0</td>\n",
       "    </tr>\n",
       "    <tr>\n",
       "      <th>...</th>\n",
       "      <td>...</td>\n",
       "      <td>...</td>\n",
       "      <td>...</td>\n",
       "      <td>...</td>\n",
       "      <td>...</td>\n",
       "      <td>...</td>\n",
       "      <td>...</td>\n",
       "      <td>...</td>\n",
       "      <td>...</td>\n",
       "      <td>...</td>\n",
       "      <td>...</td>\n",
       "      <td>...</td>\n",
       "      <td>...</td>\n",
       "    </tr>\n",
       "    <tr>\n",
       "      <th>1464</th>\n",
       "      <td>4455.0</td>\n",
       "      <td>0.0</td>\n",
       "      <td>0.0</td>\n",
       "      <td>0.0</td>\n",
       "      <td>0.0</td>\n",
       "      <td>0.000000</td>\n",
       "      <td>0.0</td>\n",
       "      <td>0.0</td>\n",
       "      <td>0.0</td>\n",
       "      <td>4.000000</td>\n",
       "      <td>3.0</td>\n",
       "      <td>4.000000</td>\n",
       "      <td>3.0</td>\n",
       "    </tr>\n",
       "    <tr>\n",
       "      <th>1465</th>\n",
       "      <td>4456.0</td>\n",
       "      <td>93.0</td>\n",
       "      <td>2.0</td>\n",
       "      <td>0.0</td>\n",
       "      <td>0.0</td>\n",
       "      <td>0.000000</td>\n",
       "      <td>0.0</td>\n",
       "      <td>85.0</td>\n",
       "      <td>2.0</td>\n",
       "      <td>85.714286</td>\n",
       "      <td>7.0</td>\n",
       "      <td>86.909091</td>\n",
       "      <td>11.0</td>\n",
       "    </tr>\n",
       "    <tr>\n",
       "      <th>1466</th>\n",
       "      <td>4457.0</td>\n",
       "      <td>0.0</td>\n",
       "      <td>0.0</td>\n",
       "      <td>0.0</td>\n",
       "      <td>0.0</td>\n",
       "      <td>0.000000</td>\n",
       "      <td>0.0</td>\n",
       "      <td>85.0</td>\n",
       "      <td>2.0</td>\n",
       "      <td>79.900000</td>\n",
       "      <td>10.0</td>\n",
       "      <td>80.750000</td>\n",
       "      <td>12.0</td>\n",
       "    </tr>\n",
       "    <tr>\n",
       "      <th>1467</th>\n",
       "      <td>4458.0</td>\n",
       "      <td>81.0</td>\n",
       "      <td>2.0</td>\n",
       "      <td>0.0</td>\n",
       "      <td>0.0</td>\n",
       "      <td>0.000000</td>\n",
       "      <td>0.0</td>\n",
       "      <td>0.0</td>\n",
       "      <td>0.0</td>\n",
       "      <td>84.333333</td>\n",
       "      <td>9.0</td>\n",
       "      <td>83.727273</td>\n",
       "      <td>11.0</td>\n",
       "    </tr>\n",
       "    <tr>\n",
       "      <th>1468</th>\n",
       "      <td>4459.0</td>\n",
       "      <td>0.0</td>\n",
       "      <td>0.0</td>\n",
       "      <td>0.0</td>\n",
       "      <td>0.0</td>\n",
       "      <td>0.000000</td>\n",
       "      <td>0.0</td>\n",
       "      <td>0.0</td>\n",
       "      <td>0.0</td>\n",
       "      <td>85.000000</td>\n",
       "      <td>3.0</td>\n",
       "      <td>85.000000</td>\n",
       "      <td>3.0</td>\n",
       "    </tr>\n",
       "  </tbody>\n",
       "</table>\n",
       "<p>1469 rows × 13 columns</p>\n",
       "</div>"
      ],
      "text/plain": [
       "      user_id  专业选修课成绩  专业选修课学分  专业必修课成绩  专业必修课学分      选修课成绩  选修课学分  公共必修课成绩  \\\n",
       "0      2991.0      0.0      0.0      0.0      0.0  90.461538    6.5      0.0   \n",
       "1      2992.0      0.0      0.0      0.0      0.0  89.250000    8.0      0.0   \n",
       "2      2993.0      0.0      0.0      0.0      0.0  90.947368    9.5      0.0   \n",
       "3      2994.0      0.0      0.0      0.0      0.0  85.818182   11.0      0.0   \n",
       "4      2995.0      0.0      0.0      0.0      0.0  82.692308    6.5      0.0   \n",
       "...       ...      ...      ...      ...      ...        ...    ...      ...   \n",
       "1464   4455.0      0.0      0.0      0.0      0.0   0.000000    0.0      0.0   \n",
       "1465   4456.0     93.0      2.0      0.0      0.0   0.000000    0.0     85.0   \n",
       "1466   4457.0      0.0      0.0      0.0      0.0   0.000000    0.0     85.0   \n",
       "1467   4458.0     81.0      2.0      0.0      0.0   0.000000    0.0      0.0   \n",
       "1468   4459.0      0.0      0.0      0.0      0.0   0.000000    0.0      0.0   \n",
       "\n",
       "      公共必修课学分     未分类课成绩  未分类课学分        总成绩   总学分  \n",
       "0         0.0  83.378378    18.5  85.220000  25.0  \n",
       "1         0.0  89.529412    17.0  89.440000  25.0  \n",
       "2         0.0  85.903226    15.5  87.820000  25.0  \n",
       "3         0.0  89.785714    14.0  88.040000  25.0  \n",
       "4         0.0  86.459459    18.5  85.480000  25.0  \n",
       "...       ...        ...     ...        ...   ...  \n",
       "1464      0.0   4.000000     3.0   4.000000   3.0  \n",
       "1465      2.0  85.714286     7.0  86.909091  11.0  \n",
       "1466      2.0  79.900000    10.0  80.750000  12.0  \n",
       "1467      0.0  84.333333     9.0  83.727273  11.0  \n",
       "1468      0.0  85.000000     3.0  85.000000   3.0  \n",
       "\n",
       "[1469 rows x 13 columns]"
      ]
     },
     "execution_count": 20,
     "metadata": {},
     "output_type": "execute_result"
    }
   ],
   "source": [
    "pd_grade"
   ]
  },
  {
   "cell_type": "code",
   "execution_count": 120,
   "metadata": {
    "scrolled": true
   },
   "outputs": [
    {
     "data": {
      "text/plain": [
       "1469"
      ]
     },
     "execution_count": 120,
     "metadata": {},
     "output_type": "execute_result"
    }
   ],
   "source": [
    "len(pd_grade)"
   ]
  },
  {
   "cell_type": "code",
   "execution_count": 21,
   "metadata": {},
   "outputs": [],
   "source": [
    "pd_grade.sort_values(\"user_id\").reset_index(drop=True).to_csv(\"grade_info_2.csv\")"
   ]
  },
  {
   "cell_type": "code",
   "execution_count": null,
   "metadata": {},
   "outputs": [],
   "source": []
  }
 ],
 "metadata": {
  "kernelspec": {
   "display_name": "Python 3",
   "language": "python",
   "name": "python3"
  },
  "language_info": {
   "codemirror_mode": {
    "name": "ipython",
    "version": 3
   },
   "file_extension": ".py",
   "mimetype": "text/x-python",
   "name": "python",
   "nbconvert_exporter": "python",
   "pygments_lexer": "ipython3",
   "version": "3.7.7"
  }
 },
 "nbformat": 4,
 "nbformat_minor": 4
}
